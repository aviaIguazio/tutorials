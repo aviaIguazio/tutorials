{
 "cells": [
  {
   "cell_type": "markdown",
   "metadata": {},
   "source": [
    "# Data Ingestion and Preparation Overview\n",
    "\n",
    "Learn about different methods for ingesting data into the Iguazio Data Science Platform, analyzing the data, and preparing it for the next step in your data pipeline."
   ]
  },
  {
   "cell_type": "markdown",
   "metadata": {},
   "source": [
    "- [Overview](#data-ingest-overview)\n",
    "- [Basic Flow](#data-ingest-basic-flow)\n",
    "- [The Platform's Data Layer](#data-ingest-platform-data-layer)\n",
    "  - [Platform Data Containers](#platform-data-containers)\n",
    "  - [The Simple-Object Platform API](#data-ingest-platform-simple-object-api)\n",
    "  - [The NoSQL (Key-Value) Platform API](#data-ingest-platform-nosql-api)\n",
    "  - [The Streaming Platform API](#data-ingest-platform-streaming-api)\n",
    "- [Reading from External Database](#data-ingest-external-dbs)\n",
    "  - [Using Spark over JDBC](#data-ingest-spark-over-jdbs)\n",
    "  - [Using SQLAlchemy](#data-ingest-sqlalchemy)\n",
    "- [Working with Spark](#data-ingest-spark)\n",
    "  - [Using Spark SQL and DataFrames](#data-ingest-spark-sql-n-dfs)\n",
    "- [Working with Streams](#data-ingest-streams)\n",
    "  - [Using Nuclio to Get Data from Common Streaming Engines](#data-ingest-streams-nuclio)\n",
    "  - [Using the Platform's Streaming Engine](#data-ingest-streams-platform)\n",
    "  - [Using Spark Streaming](#data-ingest-streams-spark)\n",
    "- [Running SQL Queries on Platform Data](#data-ingest-sql)\n",
    "  - [Running Full ANSI Presto SQL Queries](#data-ingest-sql-presto)\n",
    "  - [Running Spark SQL Queries](#data-ingest-sql-spark)\n",
    "  - [Running SQL Queries from Nuclio Functions](#data-ingest-sql-nuclio)\n",
    "  - [Running SQL Queries from MLRun Jobs](#data-ingest-sql-mlrun)\n",
    "- [Working with Parquet Files](#data-ingest-parquet)\n",
    "- [Accessing Platform NoSQL and TSDB Data Using the Frames Library](#data-ingest-frames)\n",
    "- [Getting Data from AWS S3 Using curl](data-ingest-s3-curl)\n",
    "- [Running Distributed Python with Dask](#data-ingest-dask)\n",
    "- [Running DataFrames on GPUs using NVIDIA cuDF](#data-ingest-gpu)\n",
    "- [Visualizing Data with Grafana](#data-ingest-grafana)"
   ]
  },
  {
   "cell_type": "markdown",
   "metadata": {},
   "source": [
    "<a id=\"data-ingest-overview\"></a>\n",
    "## Overview\n",
    "\n",
    "The Iguazio Data Science Platform (\"the platform\") allows storing data in any format.\n",
    "The platform's multi-model data layer and related APIs provide enhanced support for working with NoSQL (\"key-value\"), time-series, and stream data.\n",
    "Various steps of the data science life cycle (pipeline) might require different tools and frameworks for working with data, especially when it comes to the different mechanisms required during the research and development phase versus the operational production phase.\n",
    "The platform features a wide set of methods for manipulating and managing data, of different formats, in each step of the data life cycle, using a variety of frameworks, tools, and APIs &mdash; such as Spark SQL and DataFrames, Spark Streaming, Presto SQL queries, pandas DataFrames, Dask, the V3IO Frames Python library, and web APIs.\n",
    "\n",
    "This tutorial provides an overview of various methods for collecting, storing, and manipulating data in the platform, and refers to sample tutorial notebooks that demonstrate how to use these methods.<br>\n",
    "For an in-depth overview of the platform and how it can be used to implement a full data science workflow, see the [**platform-overview**](../platform-overview.ipynb) tutorial notebook.\n",
    "For information about the available full end-to-end use-case application and how-to demos, see the [**welcome**](../welcome.ipynb#end-to-end-use-case-applications) notebook or the matching [**README.md**](../README.md#end-to-end-use-case-applications) file.\n",
    "\n",
    "<br><img src=\"../assets/images/pipeline-diagram.png\" alt=\"pipeline-diagram\" width=\"1000\"/><br>"
   ]
  },
  {
   "cell_type": "markdown",
   "metadata": {},
   "source": [
    "<a id=\"data-ingest-basic-flow\"></a>"
   ]
  },
  {
   "cell_type": "markdown",
   "metadata": {},
   "source": [
    "## Basic Flow\n",
    "\n",
    "The [**basic-data-ingestion-and-preparation**](basic-data-ingestion-and-preparation.ipynb) tutorial walks you through basic scenarios of ingesting data from external sources into the platform's data store and manipulating the data using different data formats.\n",
    "The tutorial includes an example of ingesting a CSV file from an AWS S3 bucket; converting it into a NoSQL table using Spark DataFrames; running SQL queries on the table; and converting the table into a Parquet file."
   ]
  },
  {
   "cell_type": "markdown",
   "metadata": {},
   "source": [
    "<a id=\"data-ingest-platform-data-layer\"></a>"
   ]
  },
  {
   "cell_type": "markdown",
   "metadata": {},
   "source": [
    "## The Platform's Data Layer"
   ]
  },
  {
   "cell_type": "markdown",
   "metadata": {},
   "source": [
    "The platform features an extremely fast and secure data layer (a.k.a. \"data store\") that supports storing data in different formats &mdash; SQL, NoSQL, time-series databases, files (simple objects), and streaming.\n",
    "The data is stored within data containers and can be accessed using a variety of APIs &mdash; including [simple-object](#data-ingest-platform-simple-object-api), [NoSQL (\"key-value\")](#data-ingest-platform-nosql-api), and [streaming](#data-ingest-platform-streaming-api) APIs."
   ]
  },
  {
   "cell_type": "markdown",
   "metadata": {},
   "source": [
    "<a id=\"platform-data-containers\"></a>"
   ]
  },
  {
   "cell_type": "markdown",
   "metadata": {},
   "source": [
    "### Platform Data Containers\n",
    "\n",
    "Data is stored within data containers in the platform's distributed file system (DFS), which makes up the platform's data layer.\n",
    "All platform clusters have several predefined containers:\n",
    "\n",
    "- <a id=\"users-container\"></a>**\"users\"** &mdash; This container is designed to contain **&lt;username&gt;** directories that provide individual development environments for storing user-specific data.\n",
    "  The platform's Jupyter Notebook, Zeppelin, and web-based shell \"command-line services\" automatically create such a directory for the running user of the service and set it as the home directory of the service environment.\n",
    "  You can leverage the following environment variables, which are predefined in the platform's command-line services, to access this running-user directory from your code:\n",
    "\n",
    "  - `V3IO_USERNAME` &mdash; set to the username of the running user of the Jupyter Notebook service.\n",
    "  - `V3IO_HOME` &mdash; set to the running-user directory in the \"users\" container &mdash; **users/&lt;running user&gt;**.\n",
    "  - `V3IO_HOME_URL` &mdash; set to the fully qualified `v3io` path to the running-user directory &mdash; `v3io://users/<running user>`.\n",
    "- <a id=\"projects-container\"></a>**\"projects\"** &mdash; This container is designed to store shared project artifacts.<br>\n",
    "    When creating a new project, the default artifacts path is **projects/&lt;project name&gt;/artifacts**.\n",
    "- <a id=\"bigdata-container\"></a>**\"bigdata\"** &mdash; This container has no special significance in the current release, and it will no longer be predefined in future releases.\n",
    "    However, you'll still be able to use your existing \"bigdata\" container and all its data, or create a custom container by this name if it doesn't already exist.\n",
    "\n",
    "The data containers and their contents are referenced differently depending on the programming interface.\n",
    "For example:\n",
    "\n",
    "- In local file-system (FS) commands you use the predefined `v3io` root data mount &mdash; `/v3io/<container name>[/<data path>]`.\n",
    "  There's also a predefined local-FS `User` mount to the **users/&lt;running user&gt;** directory, and you can use the aforementioned environment variables when setting data paths.\n",
    "  For example, `/v3io/users/$V3IO_USERNAME`, `/v3io/$V3IO_HOME`, and `/User` are all valid ways of referencing the **users/&lt;running user&gt;** directory from a local FS command.\n",
    "- In Hadoop FS or Spark DataFrame commands you use a fully qualified path of the format `v3io://<container name>/<data path>`.\n",
    "  You can also use environment variables with these interfaces.\n",
    "\n",
    "For detailed information and examples on how to set the data path for each interface, see [API Data Paths](https://www.iguazio.com/docs/v3.0/data-layer/apis/data-paths/) and the examples in the platform's tutorial Jupyter notebooks."
   ]
  },
  {
   "cell_type": "markdown",
   "metadata": {},
   "source": [
    "<a id=\"data-ingest-platform-simple-object-api\"></a>"
   ]
  },
  {
   "cell_type": "markdown",
   "metadata": {},
   "source": [
    "### The Simple-Object Platform API"
   ]
  },
  {
   "cell_type": "markdown",
   "metadata": {},
   "source": [
    "The platform's Simple-Object API enables performing simple data-object and container operations that resemble the Amazon Web Services (AWS) Simple Storage Service (S3) API.\n",
    "In addition to the S3-like capabilities, the Simple-Object Web API enables appending data to existing objects.\n",
    "For more information and API usage examples, see the [**v3io-objects**](v3io-objects.ipynb) tutorial."
   ]
  },
  {
   "cell_type": "markdown",
   "metadata": {},
   "source": [
    "<a id=\"data-ingest-platform-nosql-api\"></a>"
   ]
  },
  {
   "cell_type": "markdown",
   "metadata": {},
   "source": [
    "### The NoSQL (Key-Value) Platform API"
   ]
  },
  {
   "cell_type": "markdown",
   "metadata": {},
   "source": [
    "The platform's NoSQL (a.k.a. key-value/KV) API provides access to the platform's NoSQL data store (database service), which enables storing and consuming data in a tabular format.\n",
    "For more information and API usage examples, see the [**v3io-kv**](v3io-kv.ipynb) tutorial."
   ]
  },
  {
   "cell_type": "markdown",
   "metadata": {},
   "source": [
    "<a id=\"data-ingest-platform-streaming-api\"></a>"
   ]
  },
  {
   "cell_type": "markdown",
   "metadata": {},
   "source": [
    "### The Streaming Platform API"
   ]
  },
  {
   "cell_type": "markdown",
   "metadata": {},
   "source": [
    "The platform's Streaming API enables working with data in the platform as streams.\n",
    "For more information and API usage examples, see the [**v3io-streams**](v3io-streams.ipynb) tutorial.\n",
    "In addition, see the [Working with Streams](#data-ingest-streams) section in the current tutorial for general information about different methods for working with data streams in the platform."
   ]
  },
  {
   "cell_type": "markdown",
   "metadata": {},
   "source": [
    "<a id=\"data-ingest-external-dbs\"></a>\n",
    "## Reading Data from External Databases\n",
    "\n",
    "You can use different methods to read data from external databases into the platform's data store, such Spark over JDBC or SQLAlchemy."
   ]
  },
  {
   "cell_type": "markdown",
   "metadata": {},
   "source": [
    "<a id=\"data-ingest-spark-over-jdbs\"></a>"
   ]
  },
  {
   "cell_type": "markdown",
   "metadata": {},
   "source": [
    "### Using Spark over JDBC\n",
    "\n",
    "Spark SQL includes a data source that can read data from other databases using Java database connectivity (JDBC).\n",
    "The results are returned as a Spark DataFrame that can easily be processed using Spark SQL, or joined with other data sources.\n",
    "The [**spark-jdbc**](spark-jdbc.ipynb) tutorial includes several examples of using Spark JDBC to ingest data from various databases &mdash; such as MySQL, Oracle, and PostgreSQL."
   ]
  },
  {
   "cell_type": "markdown",
   "metadata": {},
   "source": [
    "<a id=\"data-ingest-sqlalchemy\"></a>"
   ]
  },
  {
   "cell_type": "markdown",
   "metadata": {},
   "source": [
    "### Using SQLAlchemy\n",
    "\n",
    "The [**read-external-db**](read-external-db.ipynb) tutorial outlines how to ingest data using [SQLAlchemy](https://www.sqlalchemy.org/) &mdash; a Python SQL toolkit and Object Relational Mapper, which gives application developers the full power and flexibility of SQL &mdash; and then use Python DataFrames to work on the ingested data set."
   ]
  },
  {
   "cell_type": "markdown",
   "metadata": {},
   "source": [
    "<a id=\"data-ingest-spark\"></a>"
   ]
  },
  {
   "cell_type": "markdown",
   "metadata": {},
   "source": [
    "## Working with Spark\n",
    "\n",
    "The platform has a default pre-deployed Spark service that enables ingesting, analyzing, and manipulating data using different [Spark](http://spark.apache.org) APIs:\n",
    "\n",
    "- Using Spark SQL and DataFrames\n",
    "- Using the Spark Streaming API &mdash; see [Using Streaming Streaming](#data-ingest-streams-spark) under \"Working with Spark\"."
   ]
  },
  {
   "cell_type": "markdown",
   "metadata": {},
   "source": [
    "<a id=\"data-ingest-spark-sql-n-dfs\"></a>"
   ]
  },
  {
   "cell_type": "markdown",
   "metadata": {},
   "source": [
    "### Using Spark SQL and DataFrames\n",
    "\n",
    "Spark lets you write and query structured data inside Spark programs by using either SQL or a familiar DataFrame API.\n",
    "DataFrames and SQL provide a common way to access a variety of data sources.\n",
    "You can use the [Spark SQL and DataFrames](https://spark.apache.org/sql/) API to ingest data into the platform, for both batch and micro-batch processing, and analyze and manipulate large data sets, in a distributed manner.\n",
    "\n",
    "The platform's custom NoSQL Spark DataFrame implements the Spark data-source API to support a custom data source that enables reading and writing data in the platform's NoSQL store using Spark DataFrames, including enhanced features such as data pruning and filtering (predicate push down); queries are passed to the platform's data store, which returns only the relevant data.\n",
    "This allows accelerated and high-speed access from Spark to data stored in the platform.\n",
    "\n",
    "The [**spark-sql-analytics**](spark-sql-analytics.ipynb) tutorial demonstrates how to use Spark SQL and DataFrames to access objects, tables, and unstructured data that persists in the platform's data store.\n",
    "\n",
    "For more information and examples of data ingestion with Spark DataFrames, see [Getting Started with Data Ingestion Using Spark](https://www.iguazio.com/docs/v3.0/data-layer/spark-data-ingestion-qs/).<br>\n",
    "For more about running SQL queries with Spark, see [Running Spark SQL Queries](#data-ingest-sql-spark) under \"Running SQL Queries on Platform Data\"."
   ]
  },
  {
   "cell_type": "markdown",
   "metadata": {},
   "source": [
    "<a id=\"data-ingest-streams\"></a>"
   ]
  },
  {
   "cell_type": "markdown",
   "metadata": {},
   "source": [
    "## Working with Streams\n",
    "\n",
    "The platform supports various methods for working with data streams, including the following:\n",
    "\n",
    "- [Using Nuclio to Get Data from Common Streaming Engines](#data-ingest-streams-nuclio)\n",
    "- [Using the Platform's Streaming Engine](#data-ingest-streams-platform)\n",
    "- [Using Spark Streaming](#data-ingest-streams-spark)"
   ]
  },
  {
   "cell_type": "markdown",
   "metadata": {},
   "source": [
    "<a id=\"data-ingest-streams-nuclio\"></a>"
   ]
  },
  {
   "cell_type": "markdown",
   "metadata": {},
   "source": [
    "### Using Nuclio to Get Data from Common Streaming Engines\n",
    "\n",
    "The platform has a default pre-deployed Nuclio service that uses Iguazio's [Nuclio](https://nuclio.io/) serverless-framework, which provides a mechanism for analyzing and processing real-time events from various streaming engines.\n",
    "Nuclio currently supports the following streaming frameworks &mdash; Kafka, Kinesis, Azure Event Hubs, platform streams (a.k.a. V3IO streams), RabbitMQ, and MQTT.\n",
    "\n",
    "Using Nuclio functions to retrieve and analyze streaming data in real time is a very common practice when building a real-time data pipeline.\n",
    "You can stream any type of data &mdash; such as telemetry (NetOps) metrics, financial transactions, web clicks, or sensors data &mdash; in any format, including images and videos. \n",
    "You can also implement your own logic within the Nuclio function to manipulate or enrich the consumed stream data and prepare it for the next step in the pipeline.\n",
    "\n",
    "Nuclio serverless functions can sustain high workloads with very low latencies, thus making them very useful for building an event-driven applications with strict latency requirements.\n",
    "\n",
    "For more information about Nuclio, see [the platform's Nuclio service overview](https://www.iguazio.com/docs/v3.0/services/app-services/nuclio/)."
   ]
  },
  {
   "cell_type": "markdown",
   "metadata": {},
   "source": [
    "<a id=\"data-ingest-streams-platform\"></a>"
   ]
  },
  {
   "cell_type": "markdown",
   "metadata": {},
   "source": [
    "### Using the Platform's Streaming Engine \n",
    "\n",
    "The platform features a custom streaming engine and a related stream format &mdash; a platform stream (a.k.a. V3IO stream).\n",
    "You can use the platform's streaming engine to write data into a queue in a real-time data pipeline, or as a standard streaming engine (similar to Kafka and Kinesis), so you don't need to use an external engine.\n",
    "\n",
    "The platform's streaming engine is currently available via the platform's [Streaming Web API](https://www.iguazio.com/docs/v3.0/data-layer/reference/web-apis/streaming-web-api/).<br>\n",
    "In addition, the platform's Spark-Streaming Integration API enables using the Spark Streaming API to work with platform streams, as explained in the next section ([Using Spark Streaming](#data-ingest-streams-spark)).\n",
    "\n",
    "The [**v3io-streams**](v3io-streams.ipynb) tutorial demonstrates basic usage of the streaming API.\n",
    "\n",
    "<!-- [IntInfo] The referenced demo doesn't exist.\n",
    "The [**model deployment with streaming**](https://github.com/mlrun/demo-model-deployment-with-streaming) demo application includes an example of a Nuclio function that uses platform streams.\n",
    "-->"
   ]
  },
  {
   "cell_type": "markdown",
   "metadata": {},
   "source": [
    "<a id=\"data-ingest-streams-spark\"></a>"
   ]
  },
  {
   "cell_type": "markdown",
   "metadata": {},
   "source": [
    "### Using Spark Streaming\n",
    "\n",
    "You can use the [Spark Streaming](http://spark.apache.org/streaming/) API to ingest, consume, and analyze data using data streams.\n",
    "The platform features a custom [Spark-Streaming Integration API](https://www.iguazio.com/docs/v3.0/data-layer/reference/spark-apis/spark-streaming-integration-api/) to allow using the Spark Streaming API with [platform streams](#data-ingest-streams-platform).\n",
    "\n",
    "<!-- TODO: Add more information / add a tutorial and refer to it. -->"
   ]
  },
  {
   "cell_type": "markdown",
   "metadata": {},
   "source": [
    "<a id=\"data-ingest-sql\"></a>"
   ]
  },
  {
   "cell_type": "markdown",
   "metadata": {},
   "source": [
    "## Running SQL Queries on Platform Data\n",
    "\n",
    "You can run SQL queries on NoSQL and Parquet data in the platform's data store, using any of the following methods:\n",
    "\n",
    "- [Running full ANSI Presto SQL queries](#data-ingest-sql-presto) using SQL magic\n",
    "- [Running Spark SQL queries](#data-ingest-sql-spark)\n",
    "- [Running SQL queries from Nuclio functions](#data-ingest-sql-nuclio)"
   ]
  },
  {
   "cell_type": "markdown",
   "metadata": {},
   "source": [
    "<a id=\"data-ingest-sql-presto\"></a>"
   ]
  },
  {
   "cell_type": "markdown",
   "metadata": {},
   "source": [
    "### Running Full ANSI Presto SQL Queries\n",
    "\n",
    "The platform has a default pre-deployed Presto service that enables using the [Presto](https://trino.io/) open-source distributed SQL query engine to run interactive SQL queries and perform high-performance low-latency interactive analytics on data that's stored in the platform.\n",
    "To run a Presto query from a Jupyter notebook, all you need is to use an SQL magic command &mdash; `%sql` followed by your Presto query.\n",
    "Such queries are executed as distributed queries across the platform's application nodes.\n",
    "The [**basic-data-ingestion-and-preparation**](basic-data-ingestion-and-preparationipynb) tutorial demonstrates how to run Presto queries using SQL magic.\n",
    "\n",
    "Note that for running queries on Parquet tables, you need to work with Hive tables.\n",
    "The [**csv-to-hive**](csv-to-hive.ipynb) tutorial includes a script that converts a CSV file into a Hive table."
   ]
  },
  {
   "cell_type": "markdown",
   "metadata": {},
   "source": [
    "<a id=\"data-ingest-sql-spark\"></a>"
   ]
  },
  {
   "cell_type": "markdown",
   "metadata": {},
   "source": [
    "### Running Spark SQL Queries\n",
    "\n",
    "The [**spark-sql-analytics**](spark-sql-analytics.ipynb) tutorial demonstrates how to run Spark SQL queries on data in the platform's data store.\n",
    "\n",
    "For more information about the platform's Spark service, see [Working with Spark](#data-ingest-spark) in this tutorial."
   ]
  },
  {
   "cell_type": "markdown",
   "metadata": {},
   "source": [
    "<a id=\"data-ingest-sql-nuclio\"></a>"
   ]
  },
  {
   "cell_type": "markdown",
   "metadata": {},
   "source": [
    "### Running SQL Queries from Nuclio Functions \n",
    "\n",
    "In some cases, you might need to run SQL queries as part of an event-driven application.\n",
    "The [**nuclio-read-via-presto**](nuclio-read-via-presto.ipynb) tutorial demonstrates how to run an SQL query from a serverless Nuclio function."
   ]
  },
  {
   "cell_type": "markdown",
   "metadata": {},
   "source": [
    "<a id=\"data-ingest-sql-mlrun\"></a>"
   ]
  },
  {
   "cell_type": "markdown",
   "metadata": {},
   "source": [
    "### Running SQL Queries from MLRun Jobs\n",
    "\n",
    "In some cases, you might need to run SQL queries as part of an MLRun job.\n",
    "The [**mlrun-read-via-presto**](mlrun-read-via-presto.ipynb) tutorial demonstrates how to run an SQL query from an MLRun job using Presto."
   ]
  },
  {
   "cell_type": "markdown",
   "metadata": {},
   "source": [
    "<a id=\"data-ingest-parquet\"></a>"
   ]
  },
  {
   "cell_type": "markdown",
   "metadata": {},
   "source": [
    "## Working with Parquet Files\n",
    "\n",
    "Parquet is a columnar storage format that provides high-density high-performance file organization.<br>\n",
    "The [**parquet-read-write**](parquet-read-write.ipynb) tutorial demonstrates how to create and write data to a Parquet table in the platform and read data from the table.\n",
    "\n",
    "After you ingest Parquet files into the platform, you might want to create related Hive tables and run SQL queries on these tables.<br>\n",
    "The [**parquet-to-hive**](parquet-to-hive.ipynb) tutorial demonstrates how you can do this using Spark DataFrames."
   ]
  },
  {
   "cell_type": "markdown",
   "metadata": {},
   "source": [
    "<a id=\"data-ingest-frames\"></a>"
   ]
  },
  {
   "cell_type": "markdown",
   "metadata": {},
   "source": [
    "## Accessing Platform NoSQL and TSDB Data Using the Frames Library\n",
    "\n",
    "[V3IO Frames](https://github.com/v3io/frames) (**\"Frames\"**) is a multi-model open-source data-access library, developed by Iguazio, which provides a unified high-performance DataFrame API for working with data in the platform's data store.\n",
    "Frames currently supports the NoSQL (key-value) and time-series (TSDB) data models via its NoSQL (`nosql`|`kv`) and TSDB (`tsdb`) backends.\n",
    "The [**frames**](frames.ipynb) tutorial provides an introduction to Frames and demonstrates how to use it to work with NoSQL and TSDB data in the platform."
   ]
  },
  {
   "cell_type": "markdown",
   "metadata": {},
   "source": [
    "<a id=\"data-ingest-s3-curl\"></a>"
   ]
  },
  {
   "cell_type": "markdown",
   "metadata": {},
   "source": [
    "## Getting Data from AWS S3 Using curl\n",
    "\n",
    "A simple way to ingest data from the Amazon Simple Storage Service (S3) into the platform's data store is to run a curl command that sends an HTTP request to the relevant AWS S3 bucket, as demonstrated in the following code cell.\n",
    "For more information and examples, see the [**basic-data-ingestion-and-preparation**](basic-data-ingestion-and-preparation.ipynb#ingest-from-amazon-s3-using-curl) tutorial.\n",
    "<!-- TODO: Add a reference to the XCP tool and explain how to load a bulk of data from S3. -->"
   ]
  },
  {
   "cell_type": "code",
   "execution_count": null,
   "metadata": {},
   "outputs": [],
   "source": [
    "%%sh\n",
    "CSV_PATH=\"/User/examples/stocks.csv\"\n",
    "curl -L \"https://s3.wasabisys.com/iguazio/data/stocks/2018-03-26_BINS_XETR08.csv\" > ${CSV_PATH}"
   ]
  },
  {
   "cell_type": "markdown",
   "metadata": {},
   "source": [
    "<a id=\"data-ingest-dask\"></a>"
   ]
  },
  {
   "cell_type": "markdown",
   "metadata": {},
   "source": [
    "## Running Distributed Python Code with Dask\n",
    "\n",
    "[Dask](https://dask.org/) is a flexible library for parallel computation in Python, which is useful for computations that don't fit into a DataFrame.\n",
    "Dask exposes low-level APIs that enable you to build custom systems for in-house applications.\n",
    "This helps parallelize Python processes and dramatically accelerates their performance.\n",
    "The [**dask-cluster**](dask-cluster.ipynb) tutorial demonstrates how to use Dask with platform data."
   ]
  },
  {
   "cell_type": "markdown",
   "metadata": {},
   "source": [
    "<a id=\"data-ingest-gpu\"></a>"
   ]
  },
  {
   "cell_type": "markdown",
   "metadata": {},
   "source": [
    "## Running DataFrames on GPUs using NVIDIA cuDF\n",
    "\n",
    "The platform allows you to use NVIDIA's [RAPIDS](https://rapids.ai/) open-source libraries suite to execute end-to-end data science and analytics pipelines entirely on GPUs.\n",
    "[cuDF](https://docs.rapids.ai/api/cudf/stable/) is a RAPIDS GPU DataFrame library for loading, joining, aggregating, filtering, and otherwise manipulating data.\n",
    "This library features a pandas-like API that will be familiar to data engineers and data scientists, who can use it to easily accelerate their workflows without going into the details of CUDA programming.\n",
    "The [**gpu-cudf-vs-pd**](gpu-cudf-vs-pd.ipynb) tutorial demonstrates how to use the cuDF library and compares performance benchmarks with pandas and cuDF.\n",
    "\n",
    "> **Note:** To use the cuDF library, you need to create a RAPIDS Conda environment.\n",
    "> For more information, see the [**virtual-env**](../virtual-env.ipynb) tutorial."
   ]
  },
  {
   "cell_type": "markdown",
   "metadata": {},
   "source": [
    "<a id=\"data-ingest-grafana\"></a>"
   ]
  },
  {
   "cell_type": "markdown",
   "metadata": {},
   "source": [
    "## Visualizing Data with Grafana\n",
    "\n",
    "The platform has a Grafana service with predefined dashboards that leverage the monitoring service to display monitoring data, such as performance statistics, for application services.\n",
    "You can also define custom Grafana dashboards for monitoring, visualizing, and understanding data stored in the platform, such as time-series metrics and NoSQL data.\n",
    "You can read and analyze data from the platform's data store and visualize it on Grafana dashboards in the desired formats, such as tables and graphs.\n",
    "This can be done by using the custom `iguazio` data source, or by using a Prometheus data source for running Prometheus queries on platform TSDB tables.\n",
    "You can also issue data alerts and create, explore, and share dashboards.\n",
    "\n",
    "You can use Iguazio's [grafwiz](https://github.com/v3io/grafwiz) Python library to create an deploy Grafana dashboards programmatically, as demonstrated in the [**grafana-grafwiz**](grafana-grafwiz.ipynb) tutorial."
   ]
  }
 ],
 "metadata": {
  "kernelspec": {
   "display_name": "Python 3",
   "language": "python",
   "name": "python3"
  },
  "language_info": {
   "codemirror_mode": {
    "name": "ipython",
    "version": 3
   },
   "file_extension": ".py",
   "mimetype": "text/x-python",
   "name": "python",
   "nbconvert_exporter": "python",
   "pygments_lexer": "ipython3",
   "version": "3.7.6"
  }
 },
 "nbformat": 4,
 "nbformat_minor": 4
}
