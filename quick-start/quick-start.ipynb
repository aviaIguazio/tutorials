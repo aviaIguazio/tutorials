{
 "cells": [
  {
   "cell_type": "markdown",
   "metadata": {},
   "source": [
    "# Iguazio Quick Start "
   ]
  },
  {
   "cell_type": "markdown",
   "metadata": {},
   "source": [
    "This notebook provides a quick overview of building an end to end machine learning pipeline on iguazio. <br>\n",
    "This tutorial covers:\n",
    "- Part 1: Loading iris data into the platform\n",
    "- Part 2: Training a simple classification model with experiments tracking\n",
    "- Part 3: Deploy a serving function\n",
    "- Part 4: Creating an automated pipeline\n",
    "\n",
    "In this demo we'll use two key open source frameworks:\n",
    "* MLrun - Iguazio's ML orchestration tool\n",
    "* Nuclio - serverless function framework used for deploying an online serrving function\n"
   ]
  },
  {
   "cell_type": "markdown",
   "metadata": {},
   "source": [
    "#### Install MLRun package\n",
    "To install the MLRun package or upgrade the version of an installed package run the command below. <br>"
   ]
  },
  {
   "cell_type": "code",
   "execution_count": 6,
   "metadata": {
    "collapsed": true,
    "jupyter": {
     "outputs_hidden": true
    }
   },
   "outputs": [
    {
     "name": "stdout",
     "output_type": "stream",
     "text": [
      "\u001b[33mWARNING: Package(s) not found: mlrun\u001b[0m\n",
      "Collecting mlrun[complete]==0.10.1-rc1\n",
      "  Downloading mlrun-0.10.1rc1-py3-none-any.whl (804 kB)\n",
      "\u001b[K     |████████████████████████████████| 804 kB 5.3 MB/s eta 0:00:01\n",
      "\u001b[?25hCollecting distributed~=2021.11.2\n",
      "  Downloading distributed-2021.11.2-py3-none-any.whl (802 kB)\n",
      "\u001b[K     |████████████████████████████████| 802 kB 87.8 MB/s eta 0:00:01\n",
      "\u001b[?25hRequirement already satisfied: urllib3<1.27,>=1.25.4 in /conda/lib/python3.7/site-packages (from mlrun[complete]==0.10.1-rc1) (1.25.11)\n",
      "Collecting fastapi~=0.67.0\n",
      "  Downloading fastapi-0.67.0-py3-none-any.whl (51 kB)\n",
      "\u001b[K     |████████████████████████████████| 51 kB 25.4 MB/s eta 0:00:01\n",
      "\u001b[?25hCollecting pydantic~=1.5\n",
      "  Downloading pydantic-1.9.0-cp37-cp37m-manylinux_2_17_x86_64.manylinux2014_x86_64.whl (10.9 MB)\n",
      "\u001b[K     |████████████████████████████████| 10.9 MB 111.9 MB/s eta 0:00:01     | 2.6 MB 111.9 MB/s eta 0:00:01▏    | 9.3 MB 111.9 MB/s eta 0:00:01\n",
      "\u001b[?25hRequirement already satisfied: click~=7.0 in /conda/lib/python3.7/site-packages (from mlrun[complete]==0.10.1-rc1) (7.1.2)\n",
      "Collecting kfp~=1.8.0\n",
      "  Downloading kfp-1.8.11.tar.gz (298 kB)\n",
      "\u001b[K     |████████████████████████████████| 298 kB 124.8 MB/s eta 0:00:01��████████████████         | 215 kB 124.8 MB/s eta 0:00:01\n",
      "\u001b[?25hCollecting dask~=2021.11.2\n",
      "  Downloading dask-2021.11.2-py3-none-any.whl (1.0 MB)\n",
      "\u001b[K     |████████████████████████████████| 1.0 MB 113.4 MB/s eta 0:00:01\n",
      "\u001b[?25hCollecting kubernetes~=12.0\n",
      "  Downloading kubernetes-12.0.1-py2.py3-none-any.whl (1.7 MB)\n",
      "\u001b[K     |████████████████████████████████| 1.7 MB 93.7 MB/s eta 0:00:01\n",
      "\u001b[?25hCollecting python-dotenv~=0.17.0\n",
      "  Downloading python_dotenv-0.17.1-py2.py3-none-any.whl (18 kB)\n",
      "Collecting fsspec~=2021.8.1\n",
      "  Downloading fsspec-2021.8.1-py3-none-any.whl (119 kB)\n",
      "\u001b[K     |████████████████████████████████| 119 kB 122.1 MB/s eta 0:00:01\n",
      "\u001b[?25hCollecting v3io-frames~=0.10.2\n",
      "  Downloading v3io_frames-0.10.2-py3-none-any.whl (35 kB)\n",
      "Collecting orjson<3.4,>=3\n",
      "  Downloading orjson-3.3.1-cp37-cp37m-manylinux2014_x86_64.whl (208 kB)\n",
      "\u001b[K     |████████████████████████████████| 208 kB 124.6 MB/s eta 0:00:01███████████  | 194 kB 124.6 MB/s eta 0:00:01\n",
      "\u001b[?25hRequirement already satisfied: nest-asyncio~=1.0 in /conda/lib/python3.7/site-packages (from mlrun[complete]==0.10.1-rc1) (1.4.1)\n",
      "Requirement already satisfied: pyyaml~=5.1 in /conda/lib/python3.7/site-packages (from mlrun[complete]==0.10.1-rc1) (5.3.1)\n",
      "Requirement already satisfied: sqlalchemy~=1.3 in /conda/lib/python3.7/site-packages (from mlrun[complete]==0.10.1-rc1) (1.3.19)\n",
      "Collecting v3io~=0.5.13\n",
      "  Downloading v3io-0.5.15-py3-none-any.whl (49 kB)\n",
      "\u001b[K     |████████████████████████████████| 49 kB 61.0 MB/s eta 0:00:01\n",
      "\u001b[?25hCollecting pandas~=1.2\n",
      "  Downloading pandas-1.3.5-cp37-cp37m-manylinux_2_17_x86_64.manylinux2014_x86_64.whl (11.3 MB)\n",
      "\u001b[K     |████████████████████████████████| 11.3 MB 57.6 MB/s eta 0:00:01               | 4.4 MB 57.6 MB/s eta 0:00:01\n",
      "\u001b[?25hRequirement already satisfied: ipython~=7.0 in /conda/lib/python3.7/site-packages (from mlrun[complete]==0.10.1-rc1) (7.16.1)\n",
      "Collecting aiohttp~=3.8\n",
      "  Downloading aiohttp-3.8.1-cp37-cp37m-manylinux_2_5_x86_64.manylinux1_x86_64.manylinux_2_12_x86_64.manylinux2010_x86_64.whl (1.1 MB)\n",
      "\u001b[K     |████████████████████████████████| 1.1 MB 118.7 MB/s eta 0:00:01\n",
      "\u001b[?25hCollecting deepdiff~=5.0\n",
      "  Downloading deepdiff-5.7.0-py3-none-any.whl (68 kB)\n",
      "\u001b[K     |████████████████████████████████| 68 kB 107.2 MB/s eta 0:00:01\n",
      "\u001b[?25hRequirement already satisfied: chardet<4.0,>=3.0.2 in /conda/lib/python3.7/site-packages (from mlrun[complete]==0.10.1-rc1) (3.0.4)\n",
      "Collecting storey~=0.10.5\n",
      "  Downloading storey-0.10.5-py3-none-any.whl (117 kB)\n",
      "\u001b[K     |████████████████████████████████| 117 kB 128.8 MB/s eta 0:00:01\n",
      "\u001b[?25hCollecting tabulate~=0.8.6\n",
      "  Downloading tabulate-0.8.9-py3-none-any.whl (25 kB)\n",
      "Collecting nuclio-jupyter~=0.8.22\n",
      "  Downloading nuclio_jupyter-0.8.22-py3-none-any.whl (49 kB)\n",
      "\u001b[K     |████████████████████████████████| 49 kB 97.2 MB/s eta 0:00:01\n",
      "\u001b[?25hCollecting humanfriendly~=8.2\n",
      "  Downloading humanfriendly-8.2-py2.py3-none-any.whl (86 kB)\n",
      "\u001b[K     |████████████████████████████████| 86 kB 105.8 MB/s eta 0:00:01\n",
      "\u001b[?25hCollecting mergedeep~=1.3\n",
      "  Downloading mergedeep-1.3.4-py3-none-any.whl (6.4 kB)\n",
      "Collecting google-auth<2.0dev,>=1.25.0\n",
      "  Downloading google_auth-1.35.0-py2.py3-none-any.whl (152 kB)\n",
      "\u001b[K     |████████████████████████████████| 152 kB 119.3 MB/s eta 0:00:01\n",
      "\u001b[?25hCollecting semver~=2.13\n",
      "  Downloading semver-2.13.0-py2.py3-none-any.whl (12 kB)\n",
      "Collecting inflection~=0.5.0\n",
      "  Downloading inflection-0.5.1-py2.py3-none-any.whl (9.5 kB)\n",
      "Collecting cryptography<3.4,~=3.0\n",
      "  Downloading cryptography-3.3.2-cp36-abi3-manylinux2010_x86_64.whl (2.6 MB)\n",
      "\u001b[K     |████████████████████████████████| 2.6 MB 117.3 MB/s eta 0:00:01\n",
      "\u001b[?25hCollecting v3iofs~=0.1.7\n",
      "  Downloading v3iofs-0.1.10-py3-none-any.whl (13 kB)\n",
      "Requirement already satisfied: pyarrow<6,>=1 in /conda/lib/python3.7/site-packages (from mlrun[complete]==0.10.1-rc1) (1.0.1)\n",
      "Requirement already satisfied: numpy<1.22.0,>=1.16.5 in /conda/lib/python3.7/site-packages (from mlrun[complete]==0.10.1-rc1) (1.19.2)\n",
      "Requirement already satisfied: ipykernel~=5.0 in /conda/lib/python3.7/site-packages (from mlrun[complete]==0.10.1-rc1) (5.3.4)\n",
      "Collecting pymysql~=1.0\n",
      "  Downloading PyMySQL-1.0.2-py3-none-any.whl (43 kB)\n",
      "\u001b[K     |████████████████████████████████| 43 kB 72.6 MB/s eta 0:00:01\n",
      "\u001b[?25hRequirement already satisfied: GitPython~=3.0 in /conda/lib/python3.7/site-packages (from mlrun[complete]==0.10.1-rc1) (3.1.26)\n",
      "Requirement already satisfied: requests~=2.22 in /conda/lib/python3.7/site-packages (from mlrun[complete]==0.10.1-rc1) (2.24.0)\n",
      "Collecting alembic<1.6.0,~=1.4\n",
      "  Downloading alembic-1.5.8-py2.py3-none-any.whl (159 kB)\n",
      "\u001b[K     |████████████████████████████████| 159 kB 124.0 MB/s eta 0:00:01\n",
      "\u001b[?25hCollecting plotly~=5.4; extra == \"complete\"\n",
      "  Downloading plotly-5.6.0-py2.py3-none-any.whl (27.7 MB)\n",
      "\u001b[K     |████████████████████████████████| 27.7 MB 64.8 MB/s eta 0:00:01████████▏                      | 7.9 MB 64.8 MB/s eta 0:00:01��███████▍              | 15.0 MB 64.8 MB/s eta 0:00:01\n",
      "\u001b[?25hCollecting gcsfs~=2021.8.1; extra == \"complete\"\n",
      "  Downloading gcsfs-2021.8.1-py2.py3-none-any.whl (23 kB)\n",
      "Collecting boto3<1.17.107,~=1.9; extra == \"complete\"\n",
      "  Downloading boto3-1.17.106-py2.py3-none-any.whl (131 kB)\n",
      "\u001b[K     |████████████████████████████████| 131 kB 115.7 MB/s eta 0:00:01\n",
      "\u001b[?25hCollecting s3fs~=2021.8.1; extra == \"complete\"\n",
      "  Downloading s3fs-2021.8.1-py3-none-any.whl (26 kB)\n",
      "Collecting adlfs~=2021.8.1; extra == \"complete\"\n",
      "  Downloading adlfs-2021.8.2.tar.gz (38 kB)\n",
      "Collecting azure-keyvault-secrets~=4.2; extra == \"complete\"\n",
      "  Downloading azure_keyvault_secrets-4.3.0-py2.py3-none-any.whl (233 kB)\n",
      "\u001b[K     |████████████████████████████████| 233 kB 118.7 MB/s eta 0:00:01\n",
      "\u001b[?25hCollecting azure-storage-blob~=12.0; extra == \"complete\"\n",
      "  Downloading azure_storage_blob-12.9.0-py2.py3-none-any.whl (356 kB)\n",
      "\u001b[K     |████████████████████████████████| 356 kB 116.0 MB/s eta 0:00:01\n",
      "\u001b[?25hCollecting azure-identity~=1.5; extra == \"complete\"\n",
      "  Downloading azure_identity-1.8.0-py3-none-any.whl (130 kB)\n",
      "\u001b[K     |████████████████████████████████| 130 kB 110.9 MB/s eta 0:00:01\n",
      "\u001b[?25hCollecting botocore<1.20.107,>=1.20.106; extra == \"complete\"\n",
      "  Downloading botocore-1.20.106-py2.py3-none-any.whl (7.7 MB)\n",
      "\u001b[K     |████████████████████████████████| 7.7 MB 53.8 MB/s eta 0:00:01                          | 276 kB 53.8 MB/s eta 0:00:01�▉| 7.6 MB 53.8 MB/s eta 0:00:01\n",
      "\u001b[?25hCollecting aiobotocore~=1.4.0; extra == \"complete\"\n",
      "  Downloading aiobotocore-1.4.2.tar.gz (52 kB)\n",
      "\u001b[K     |████████████████████████████████| 52 kB 58.0 MB/s eta 0:00:01\n",
      "\u001b[?25hRequirement already satisfied: psutil>=5.0 in /conda/lib/python3.7/site-packages (from distributed~=2021.11.2->mlrun[complete]==0.10.1-rc1) (5.7.2)\n",
      "Requirement already satisfied: zict>=0.1.3 in /conda/lib/python3.7/site-packages (from distributed~=2021.11.2->mlrun[complete]==0.10.1-rc1) (2.0.0)\n",
      "Requirement already satisfied: jinja2 in /conda/lib/python3.7/site-packages (from distributed~=2021.11.2->mlrun[complete]==0.10.1-rc1) (2.11.2)\n",
      "Requirement already satisfied: setuptools in /conda/lib/python3.7/site-packages (from distributed~=2021.11.2->mlrun[complete]==0.10.1-rc1) (41.0.0)\n",
      "Requirement already satisfied: toolz>=0.8.2 in /conda/lib/python3.7/site-packages (from distributed~=2021.11.2->mlrun[complete]==0.10.1-rc1) (0.11.1)\n",
      "Requirement already satisfied: cloudpickle>=1.5.0 in /conda/lib/python3.7/site-packages (from distributed~=2021.11.2->mlrun[complete]==0.10.1-rc1) (1.6.0)\n",
      "Requirement already satisfied: sortedcontainers!=2.0.0,!=2.0.1 in /conda/lib/python3.7/site-packages (from distributed~=2021.11.2->mlrun[complete]==0.10.1-rc1) (2.2.2)\n",
      "Requirement already satisfied: msgpack>=0.6.0 in /conda/lib/python3.7/site-packages (from distributed~=2021.11.2->mlrun[complete]==0.10.1-rc1) (1.0.0)\n",
      "Requirement already satisfied: tblib>=1.6.0 in /conda/lib/python3.7/site-packages (from distributed~=2021.11.2->mlrun[complete]==0.10.1-rc1) (1.7.0)\n",
      "Requirement already satisfied: tornado>=5; python_version < \"3.8\" in /conda/lib/python3.7/site-packages (from distributed~=2021.11.2->mlrun[complete]==0.10.1-rc1) (6.0.4)\n",
      "Collecting starlette==0.14.2\n",
      "  Downloading starlette-0.14.2-py3-none-any.whl (60 kB)\n",
      "\u001b[K     |████████████████████████████████| 60 kB 98.0 MB/s eta 0:00:01\n",
      "\u001b[?25hRequirement already satisfied: typing-extensions>=3.7.4.3 in /conda/lib/python3.7/site-packages (from pydantic~=1.5->mlrun[complete]==0.10.1-rc1) (3.7.4.3)\n",
      "Requirement already satisfied: absl-py<2,>=0.9 in /conda/lib/python3.7/site-packages (from kfp~=1.8.0->mlrun[complete]==0.10.1-rc1) (0.10.0)\n",
      "Requirement already satisfied: google-cloud-storage<2,>=1.20.0 in /conda/lib/python3.7/site-packages (from kfp~=1.8.0->mlrun[complete]==0.10.1-rc1) (1.32.0)\n",
      "Collecting google-api-python-client<2,>=1.7.8\n",
      "  Downloading google_api_python_client-1.12.10-py2.py3-none-any.whl (61 kB)\n",
      "\u001b[K     |████████████████████████████████| 61 kB 8.5 MB/s  eta 0:00:01\n",
      "\u001b[?25hRequirement already satisfied: requests-toolbelt<1,>=0.8.0 in /conda/lib/python3.7/site-packages (from kfp~=1.8.0->mlrun[complete]==0.10.1-rc1) (0.9.1)\n",
      "Requirement already satisfied: kfp-server-api<2.0.0,>=1.1.2 in /conda/lib/python3.7/site-packages (from kfp~=1.8.0->mlrun[complete]==0.10.1-rc1) (1.5.0)\n",
      "Requirement already satisfied: jsonschema<4,>=3.0.1 in /conda/lib/python3.7/site-packages (from kfp~=1.8.0->mlrun[complete]==0.10.1-rc1) (3.2.0)\n",
      "Requirement already satisfied: Deprecated<2,>=1.2.7 in /conda/lib/python3.7/site-packages (from kfp~=1.8.0->mlrun[complete]==0.10.1-rc1) (1.2.10)\n",
      "Requirement already satisfied: strip-hints<1,>=0.1.8 in /conda/lib/python3.7/site-packages (from kfp~=1.8.0->mlrun[complete]==0.10.1-rc1) (0.1.8)\n",
      "Collecting docstring-parser<1,>=0.7.3\n",
      "  Downloading docstring_parser-0.13.tar.gz (23 kB)\n",
      "  Installing build dependencies ... \u001b[?25ldone\n",
      "\u001b[?25h  Getting requirements to build wheel ... \u001b[?25ldone\n",
      "\u001b[?25h    Preparing wheel metadata ... \u001b[?25ldone\n",
      "\u001b[?25hCollecting kfp-pipeline-spec<0.2.0,>=0.1.13\n",
      "  Downloading kfp_pipeline_spec-0.1.13-py3-none-any.whl (18 kB)\n",
      "Collecting fire<1,>=0.3.1\n",
      "  Downloading fire-0.4.0.tar.gz (87 kB)\n",
      "\u001b[K     |████████████████████████████████| 87 kB 106.2 MB/s eta 0:00:01\n",
      "\u001b[?25hRequirement already satisfied: protobuf<4,>=3.13.0 in /conda/lib/python3.7/site-packages (from kfp~=1.8.0->mlrun[complete]==0.10.1-rc1) (3.19.3)\n",
      "Collecting uritemplate<4,>=3.0.1\n",
      "  Downloading uritemplate-3.0.1-py2.py3-none-any.whl (15 kB)\n",
      "Collecting typer<1.0,>=0.3.2\n",
      "  Downloading typer-0.4.0-py3-none-any.whl (27 kB)\n",
      "Requirement already satisfied: packaging>=20.0 in /conda/lib/python3.7/site-packages (from dask~=2021.11.2->mlrun[complete]==0.10.1-rc1) (20.4)\n",
      "Requirement already satisfied: partd>=0.3.10 in /conda/lib/python3.7/site-packages (from dask~=2021.11.2->mlrun[complete]==0.10.1-rc1) (1.1.0)\n",
      "Requirement already satisfied: six>=1.9.0 in /conda/lib/python3.7/site-packages (from kubernetes~=12.0->mlrun[complete]==0.10.1-rc1) (1.12.0)\n",
      "Requirement already satisfied: websocket-client!=0.40.0,!=0.41.*,!=0.42.*,>=0.32.0 in /conda/lib/python3.7/site-packages (from kubernetes~=12.0->mlrun[complete]==0.10.1-rc1) (0.57.0)\n",
      "Requirement already satisfied: python-dateutil>=2.5.3 in /conda/lib/python3.7/site-packages (from kubernetes~=12.0->mlrun[complete]==0.10.1-rc1) (2.8.1)\n",
      "Requirement already satisfied: certifi>=14.05.14 in /conda/lib/python3.7/site-packages (from kubernetes~=12.0->mlrun[complete]==0.10.1-rc1) (2021.10.8)\n",
      "Requirement already satisfied: requests-oauthlib in /conda/lib/python3.7/site-packages (from kubernetes~=12.0->mlrun[complete]==0.10.1-rc1) (1.3.0)\n",
      "Requirement already satisfied: grpcio!=1.34.0,<1.42,>=1.30 in /conda/lib/python3.7/site-packages (from v3io-frames~=0.10.2->mlrun[complete]==0.10.1-rc1) (1.32.0)\n",
      "Requirement already satisfied: grpcio-tools!=1.34.0,<1.42,>=1.30 in /conda/lib/python3.7/site-packages (from v3io-frames~=0.10.2->mlrun[complete]==0.10.1-rc1) (1.32.0)\n",
      "Requirement already satisfied: googleapis-common-protos>=1.5.3 in /conda/lib/python3.7/site-packages (from v3io-frames~=0.10.2->mlrun[complete]==0.10.1-rc1) (1.54.0)\n",
      "Requirement already satisfied: future>=0.18.2 in /conda/lib/python3.7/site-packages (from v3io~=0.5.13->mlrun[complete]==0.10.1-rc1) (0.18.2)\n",
      "Requirement already satisfied: ujson>=3.0.0 in /conda/lib/python3.7/site-packages (from v3io~=0.5.13->mlrun[complete]==0.10.1-rc1) (5.1.0)\n",
      "Requirement already satisfied: pytz>=2017.3 in /conda/lib/python3.7/site-packages (from pandas~=1.2->mlrun[complete]==0.10.1-rc1) (2020.1)\n",
      "Requirement already satisfied: decorator in /conda/lib/python3.7/site-packages (from ipython~=7.0->mlrun[complete]==0.10.1-rc1) (4.4.2)\n",
      "Requirement already satisfied: pexpect; sys_platform != \"win32\" in /conda/lib/python3.7/site-packages (from ipython~=7.0->mlrun[complete]==0.10.1-rc1) (4.8.0)\n",
      "Requirement already satisfied: traitlets>=4.2 in /conda/lib/python3.7/site-packages (from ipython~=7.0->mlrun[complete]==0.10.1-rc1) (4.3.3)\n",
      "Requirement already satisfied: pygments in /conda/lib/python3.7/site-packages (from ipython~=7.0->mlrun[complete]==0.10.1-rc1) (2.7.1)\n",
      "Requirement already satisfied: backcall in /conda/lib/python3.7/site-packages (from ipython~=7.0->mlrun[complete]==0.10.1-rc1) (0.2.0)\n",
      "Requirement already satisfied: prompt-toolkit!=3.0.0,!=3.0.1,<3.1.0,>=2.0.0 in /conda/lib/python3.7/site-packages (from ipython~=7.0->mlrun[complete]==0.10.1-rc1) (3.0.8)\n",
      "Requirement already satisfied: pickleshare in /conda/lib/python3.7/site-packages (from ipython~=7.0->mlrun[complete]==0.10.1-rc1) (0.7.5)\n",
      "Requirement already satisfied: jedi>=0.10 in /conda/lib/python3.7/site-packages (from ipython~=7.0->mlrun[complete]==0.10.1-rc1) (0.17.2)\n",
      "Requirement already satisfied: yarl<2.0,>=1.0 in /conda/lib/python3.7/site-packages (from aiohttp~=3.8->mlrun[complete]==0.10.1-rc1) (1.5.1)\n",
      "Collecting charset-normalizer<3.0,>=2.0\n",
      "  Downloading charset_normalizer-2.0.12-py3-none-any.whl (39 kB)\n",
      "Collecting asynctest==0.13.0; python_version < \"3.8\"\n",
      "  Downloading asynctest-0.13.0-py3-none-any.whl (26 kB)\n",
      "Collecting frozenlist>=1.1.1\n",
      "  Downloading frozenlist-1.3.0-cp37-cp37m-manylinux_2_5_x86_64.manylinux1_x86_64.manylinux_2_17_x86_64.manylinux2014_x86_64.whl (144 kB)\n",
      "\u001b[K     |████████████████████████████████| 144 kB 117.3 MB/s eta 0:00:01\n",
      "\u001b[?25hCollecting async-timeout<5.0,>=4.0.0a3\n",
      "  Downloading async_timeout-4.0.2-py3-none-any.whl (5.8 kB)\n",
      "Collecting aiosignal>=1.1.2\n",
      "  Downloading aiosignal-1.2.0-py3-none-any.whl (8.2 kB)\n",
      "Requirement already satisfied: attrs>=17.3.0 in /conda/lib/python3.7/site-packages (from aiohttp~=3.8->mlrun[complete]==0.10.1-rc1) (20.2.0)\n",
      "Requirement already satisfied: multidict<7.0,>=4.5 in /conda/lib/python3.7/site-packages (from aiohttp~=3.8->mlrun[complete]==0.10.1-rc1) (4.7.6)\n",
      "Collecting ordered-set==4.0.2\n",
      "  Downloading ordered-set-4.0.2.tar.gz (10 kB)\n",
      "Requirement already satisfied: notebook>=5.2.0 in /conda/lib/python3.7/site-packages (from nuclio-jupyter~=0.8.22->mlrun[complete]==0.10.1-rc1) (6.1.6)\n",
      "Requirement already satisfied: nbconvert>=5.4 in /conda/lib/python3.7/site-packages (from nuclio-jupyter~=0.8.22->mlrun[complete]==0.10.1-rc1) (6.0.7)\n",
      "Requirement already satisfied: rsa<5,>=3.1.4; python_version >= \"3.6\" in /conda/lib/python3.7/site-packages (from google-auth<2.0dev,>=1.25.0->mlrun[complete]==0.10.1-rc1) (4.6)\n",
      "Requirement already satisfied: cachetools<5.0,>=2.0.0 in /conda/lib/python3.7/site-packages (from google-auth<2.0dev,>=1.25.0->mlrun[complete]==0.10.1-rc1) (4.1.1)\n",
      "Requirement already satisfied: pyasn1-modules>=0.2.1 in /conda/lib/python3.7/site-packages (from google-auth<2.0dev,>=1.25.0->mlrun[complete]==0.10.1-rc1) (0.2.8)\n",
      "Requirement already satisfied: cffi>=1.12 in /conda/lib/python3.7/site-packages (from cryptography<3.4,~=3.0->mlrun[complete]==0.10.1-rc1) (1.12.2)\n",
      "Requirement already satisfied: jupyter-client in /conda/lib/python3.7/site-packages (from ipykernel~=5.0->mlrun[complete]==0.10.1-rc1) (6.1.7)\n",
      "Requirement already satisfied: gitdb<5,>=4.0.1 in /conda/lib/python3.7/site-packages (from GitPython~=3.0->mlrun[complete]==0.10.1-rc1) (4.0.9)\n",
      "Requirement already satisfied: idna<3,>=2.5 in /conda/lib/python3.7/site-packages (from requests~=2.22->mlrun[complete]==0.10.1-rc1) (2.8)\n",
      "Collecting Mako\n",
      "  Downloading Mako-1.1.6-py2.py3-none-any.whl (75 kB)\n",
      "\u001b[K     |████████████████████████████████| 75 kB 100.2 MB/s eta 0:00:01\n",
      "\u001b[?25hCollecting python-editor>=0.3\n",
      "  Downloading python_editor-1.0.4-py3-none-any.whl (4.9 kB)\n",
      "Collecting tenacity>=6.2.0\n",
      "  Downloading tenacity-8.0.1-py3-none-any.whl (24 kB)\n",
      "Requirement already satisfied: google-auth-oauthlib in /conda/lib/python3.7/site-packages (from gcsfs~=2021.8.1; extra == \"complete\"->mlrun[complete]==0.10.1-rc1) (0.4.1)\n",
      "Requirement already satisfied: jmespath<1.0.0,>=0.7.1 in /conda/lib/python3.7/site-packages (from boto3<1.17.107,~=1.9; extra == \"complete\"->mlrun[complete]==0.10.1-rc1) (0.10.0)\n",
      "Collecting s3transfer<0.5.0,>=0.4.0\n",
      "  Downloading s3transfer-0.4.2-py2.py3-none-any.whl (79 kB)\n",
      "\u001b[K     |████████████████████████████████| 79 kB 99.5 MB/s  eta 0:00:01\n",
      "\u001b[?25hCollecting azure-core>=1.7.0\n",
      "  Downloading azure_core-1.23.0-py3-none-any.whl (179 kB)\n",
      "\u001b[K     |████████████████████████████████| 179 kB 123.8 MB/s eta 0:00:01\n",
      "\u001b[?25hCollecting azure-datalake-store<0.1,>=0.0.46\n",
      "  Downloading azure_datalake_store-0.0.52-py2.py3-none-any.whl (61 kB)\n",
      "\u001b[K     |████████████████████████████████| 61 kB 21.5 MB/s  eta 0:00:01\n",
      "\u001b[?25hCollecting azure-common~=1.1\n",
      "  Downloading azure_common-1.1.28-py2.py3-none-any.whl (14 kB)\n",
      "Collecting msrest>=0.6.21\n",
      "  Downloading msrest-0.6.21-py2.py3-none-any.whl (85 kB)\n",
      "\u001b[K     |████████████████████████████████| 85 kB 102.8 MB/s eta 0:00:01\n",
      "\u001b[?25hCollecting msal-extensions~=0.3.0\n",
      "  Downloading msal_extensions-0.3.1-py2.py3-none-any.whl (18 kB)\n",
      "Collecting msal<2.0.0,>=1.12.0\n",
      "  Downloading msal-1.17.0-py2.py3-none-any.whl (79 kB)\n",
      "\u001b[K     |████████████████████████████████| 79 kB 106.4 MB/s eta 0:00:01\n",
      "\u001b[?25hRequirement already satisfied: wrapt>=1.10.10 in /conda/lib/python3.7/site-packages (from aiobotocore~=1.4.0; extra == \"complete\"->mlrun[complete]==0.10.1-rc1) (1.12.1)\n",
      "Collecting aioitertools>=0.5.1\n",
      "  Downloading aioitertools-0.10.0-py3-none-any.whl (23 kB)\n",
      "Requirement already satisfied: heapdict in /conda/lib/python3.7/site-packages (from zict>=0.1.3->distributed~=2021.11.2->mlrun[complete]==0.10.1-rc1) (1.0.1)\n",
      "Requirement already satisfied: MarkupSafe>=0.23 in /conda/lib/python3.7/site-packages (from jinja2->distributed~=2021.11.2->mlrun[complete]==0.10.1-rc1) (1.1.1)\n",
      "Requirement already satisfied: google-resumable-media<2.0dev,>=1.0.0 in /conda/lib/python3.7/site-packages (from google-cloud-storage<2,>=1.20.0->kfp~=1.8.0->mlrun[complete]==0.10.1-rc1) (1.1.0)\n",
      "Requirement already satisfied: google-cloud-core<2.0dev,>=1.4.1 in /conda/lib/python3.7/site-packages (from google-cloud-storage<2,>=1.20.0->kfp~=1.8.0->mlrun[complete]==0.10.1-rc1) (1.4.3)\n",
      "Requirement already satisfied: google-api-core<3dev,>=1.21.0; python_version >= \"3\" in /conda/lib/python3.7/site-packages (from google-api-python-client<2,>=1.7.8->kfp~=1.8.0->mlrun[complete]==0.10.1-rc1) (1.22.2)\n",
      "Collecting httplib2<1dev,>=0.15.0\n",
      "  Downloading httplib2-0.20.4-py3-none-any.whl (96 kB)\n",
      "\u001b[K     |████████████████████████████████| 96 kB 107.3 MB/s eta 0:00:01\n",
      "\u001b[?25hCollecting google-auth-httplib2>=0.0.3\n",
      "  Downloading google_auth_httplib2-0.1.0-py2.py3-none-any.whl (9.3 kB)\n",
      "Requirement already satisfied: importlib-metadata; python_version < \"3.8\" in /conda/lib/python3.7/site-packages (from jsonschema<4,>=3.0.1->kfp~=1.8.0->mlrun[complete]==0.10.1-rc1) (2.0.0)\n",
      "Requirement already satisfied: pyrsistent>=0.14.0 in /conda/lib/python3.7/site-packages (from jsonschema<4,>=3.0.1->kfp~=1.8.0->mlrun[complete]==0.10.1-rc1) (0.17.3)\n",
      "Requirement already satisfied: wheel in /conda/lib/python3.7/site-packages (from strip-hints<1,>=0.1.8->kfp~=1.8.0->mlrun[complete]==0.10.1-rc1) (0.33.1)\n",
      "Requirement already satisfied: termcolor in /conda/lib/python3.7/site-packages (from fire<1,>=0.3.1->kfp~=1.8.0->mlrun[complete]==0.10.1-rc1) (1.1.0)\n",
      "Requirement already satisfied: pyparsing>=2.0.2 in /conda/lib/python3.7/site-packages (from packaging>=20.0->dask~=2021.11.2->mlrun[complete]==0.10.1-rc1) (2.4.7)\n",
      "Requirement already satisfied: locket in /conda/lib/python3.7/site-packages (from partd>=0.3.10->dask~=2021.11.2->mlrun[complete]==0.10.1-rc1) (0.2.0)\n",
      "Requirement already satisfied: oauthlib>=3.0.0 in /conda/lib/python3.7/site-packages (from requests-oauthlib->kubernetes~=12.0->mlrun[complete]==0.10.1-rc1) (3.1.0)\n",
      "Requirement already satisfied: ptyprocess>=0.5 in /conda/lib/python3.7/site-packages (from pexpect; sys_platform != \"win32\"->ipython~=7.0->mlrun[complete]==0.10.1-rc1) (0.6.0)\n",
      "Requirement already satisfied: ipython-genutils in /conda/lib/python3.7/site-packages (from traitlets>=4.2->ipython~=7.0->mlrun[complete]==0.10.1-rc1) (0.2.0)\n",
      "Requirement already satisfied: wcwidth in /conda/lib/python3.7/site-packages (from prompt-toolkit!=3.0.0,!=3.0.1,<3.1.0,>=2.0.0->ipython~=7.0->mlrun[complete]==0.10.1-rc1) (0.2.5)\n",
      "Requirement already satisfied: parso<0.8.0,>=0.7.0 in /conda/lib/python3.7/site-packages (from jedi>=0.10->ipython~=7.0->mlrun[complete]==0.10.1-rc1) (0.7.0)\n",
      "Requirement already satisfied: prometheus-client in /conda/lib/python3.7/site-packages (from notebook>=5.2.0->nuclio-jupyter~=0.8.22->mlrun[complete]==0.10.1-rc1) (0.8.0)\n",
      "Requirement already satisfied: jupyter-core>=4.6.1 in /conda/lib/python3.7/site-packages (from notebook>=5.2.0->nuclio-jupyter~=0.8.22->mlrun[complete]==0.10.1-rc1) (4.6.3)\n",
      "Requirement already satisfied: terminado>=0.8.3 in /conda/lib/python3.7/site-packages (from notebook>=5.2.0->nuclio-jupyter~=0.8.22->mlrun[complete]==0.10.1-rc1) (0.9.1)\n",
      "Requirement already satisfied: pyzmq>=17 in /conda/lib/python3.7/site-packages (from notebook>=5.2.0->nuclio-jupyter~=0.8.22->mlrun[complete]==0.10.1-rc1) (19.0.2)\n",
      "Requirement already satisfied: Send2Trash in /conda/lib/python3.7/site-packages (from notebook>=5.2.0->nuclio-jupyter~=0.8.22->mlrun[complete]==0.10.1-rc1) (1.5.0)\n",
      "Requirement already satisfied: nbformat in /conda/lib/python3.7/site-packages (from notebook>=5.2.0->nuclio-jupyter~=0.8.22->mlrun[complete]==0.10.1-rc1) (5.0.8)\n",
      "Requirement already satisfied: argon2-cffi in /conda/lib/python3.7/site-packages (from notebook>=5.2.0->nuclio-jupyter~=0.8.22->mlrun[complete]==0.10.1-rc1) (20.1.0)\n",
      "Requirement already satisfied: nbclient<0.6.0,>=0.5.0 in /conda/lib/python3.7/site-packages (from nbconvert>=5.4->nuclio-jupyter~=0.8.22->mlrun[complete]==0.10.1-rc1) (0.5.1)\n",
      "Requirement already satisfied: entrypoints>=0.2.2 in /conda/lib/python3.7/site-packages (from nbconvert>=5.4->nuclio-jupyter~=0.8.22->mlrun[complete]==0.10.1-rc1) (0.3)\n",
      "Requirement already satisfied: pandocfilters>=1.4.1 in /conda/lib/python3.7/site-packages (from nbconvert>=5.4->nuclio-jupyter~=0.8.22->mlrun[complete]==0.10.1-rc1) (1.4.2)\n",
      "Requirement already satisfied: defusedxml in /conda/lib/python3.7/site-packages (from nbconvert>=5.4->nuclio-jupyter~=0.8.22->mlrun[complete]==0.10.1-rc1) (0.6.0)\n",
      "Requirement already satisfied: jupyterlab-pygments in /conda/lib/python3.7/site-packages (from nbconvert>=5.4->nuclio-jupyter~=0.8.22->mlrun[complete]==0.10.1-rc1) (0.1.2)\n",
      "Requirement already satisfied: bleach in /conda/lib/python3.7/site-packages (from nbconvert>=5.4->nuclio-jupyter~=0.8.22->mlrun[complete]==0.10.1-rc1) (3.2.1)\n",
      "Requirement already satisfied: mistune<2,>=0.8.1 in /conda/lib/python3.7/site-packages (from nbconvert>=5.4->nuclio-jupyter~=0.8.22->mlrun[complete]==0.10.1-rc1) (0.8.4)\n",
      "Requirement already satisfied: testpath in /conda/lib/python3.7/site-packages (from nbconvert>=5.4->nuclio-jupyter~=0.8.22->mlrun[complete]==0.10.1-rc1) (0.4.4)\n",
      "Requirement already satisfied: pyasn1>=0.1.3 in /conda/lib/python3.7/site-packages (from rsa<5,>=3.1.4; python_version >= \"3.6\"->google-auth<2.0dev,>=1.25.0->mlrun[complete]==0.10.1-rc1) (0.4.8)\n",
      "Requirement already satisfied: pycparser in /conda/lib/python3.7/site-packages (from cffi>=1.12->cryptography<3.4,~=3.0->mlrun[complete]==0.10.1-rc1) (2.19)\n",
      "Requirement already satisfied: smmap<6,>=3.0.1 in /conda/lib/python3.7/site-packages (from gitdb<5,>=4.0.1->GitPython~=3.0->mlrun[complete]==0.10.1-rc1) (5.0.0)\n",
      "Requirement already satisfied: adal>=0.4.2 in /conda/lib/python3.7/site-packages (from azure-datalake-store<0.1,>=0.0.46->adlfs~=2021.8.1; extra == \"complete\"->mlrun[complete]==0.10.1-rc1) (1.2.4)\n",
      "Collecting isodate>=0.6.0\n",
      "  Downloading isodate-0.6.1-py2.py3-none-any.whl (41 kB)\n",
      "\u001b[K     |████████████████████████████████| 41 kB 38.2 MB/s eta 0:00:01\n",
      "\u001b[?25hCollecting portalocker<3,>=1.0; python_version >= \"3.5\" and platform_system != \"Windows\"\n",
      "  Downloading portalocker-2.4.0-py2.py3-none-any.whl (16 kB)\n",
      "Requirement already satisfied: PyJWT[crypto]<3,>=1.0.0 in /conda/lib/python3.7/site-packages (from msal<2.0.0,>=1.12.0->azure-identity~=1.5; extra == \"complete\"->mlrun[complete]==0.10.1-rc1) (1.7.1)\n",
      "Requirement already satisfied: google-crc32c<2.0dev,>=1.0; python_version >= \"3.5\" in /conda/lib/python3.7/site-packages (from google-resumable-media<2.0dev,>=1.0.0->google-cloud-storage<2,>=1.20.0->kfp~=1.8.0->mlrun[complete]==0.10.1-rc1) (1.0.0)\n",
      "Requirement already satisfied: zipp>=0.5 in /conda/lib/python3.7/site-packages (from importlib-metadata; python_version < \"3.8\"->jsonschema<4,>=3.0.1->kfp~=1.8.0->mlrun[complete]==0.10.1-rc1) (3.3.1)\n",
      "Requirement already satisfied: async-generator in /conda/lib/python3.7/site-packages (from nbclient<0.6.0,>=0.5.0->nbconvert>=5.4->nuclio-jupyter~=0.8.22->mlrun[complete]==0.10.1-rc1) (1.10)\n",
      "Requirement already satisfied: webencodings in /conda/lib/python3.7/site-packages (from bleach->nbconvert>=5.4->nuclio-jupyter~=0.8.22->mlrun[complete]==0.10.1-rc1) (0.5.1)\n",
      "Building wheels for collected packages: kfp, adlfs, aiobotocore, docstring-parser, fire, ordered-set\n",
      "  Building wheel for kfp (setup.py) ... \u001b[?25ldone\n",
      "\u001b[?25h  Created wheel for kfp: filename=kfp-1.8.11-py3-none-any.whl size=414450 sha256=fb0464b7d95a95a6f16966c67ec84d6cbb8dbda6054422afade5746e91d5437c\n",
      "  Stored in directory: /tmp/pip-ephem-wheel-cache-zl92s5bu/wheels/85/1e/ee/a14b49663bddf9e72d1c269cbe53970167bfabb53cadbbea3a\n",
      "  Building wheel for adlfs (setup.py) ... \u001b[?25ldone\n",
      "\u001b[?25h  Created wheel for adlfs: filename=adlfs-2021.8.2-py3-none-any.whl size=21470 sha256=e0e330c3741fb0b004db542dddfc46a95c6716e8f77b17fbd6ef093198a5350d\n",
      "  Stored in directory: /tmp/pip-ephem-wheel-cache-zl92s5bu/wheels/0d/88/1d/e06072abb7fb4d59b5cf94e194e53017dfa2dc47af4dec88b7\n",
      "  Building wheel for aiobotocore (setup.py) ... \u001b[?25ldone\n",
      "\u001b[?25h  Created wheel for aiobotocore: filename=aiobotocore-1.4.2-py3-none-any.whl size=49909 sha256=b5aa08829131f975611cb79f49faec16e36436045cf31e8e4077f39038c87e3e\n",
      "  Stored in directory: /tmp/pip-ephem-wheel-cache-zl92s5bu/wheels/33/e7/d9/b297a9aa9c43d56bc2463e6e2771655ff638f30b30f0b61fcb\n",
      "  Building wheel for docstring-parser (PEP 517) ... \u001b[?25ldone\n",
      "\u001b[?25h  Created wheel for docstring-parser: filename=docstring_parser-0.13-py3-none-any.whl size=31866 sha256=4345d5c0304e35b9e0e36046bfde99d54eb8e21c30ab33dbd435062ef26ab441\n",
      "  Stored in directory: /tmp/pip-ephem-wheel-cache-zl92s5bu/wheels/bd/88/3c/d1aa049309f7945178cac9fbe6561a86424f432da57c18ca0f\n",
      "  Building wheel for fire (setup.py) ... \u001b[?25ldone\n",
      "\u001b[?25h  Created wheel for fire: filename=fire-0.4.0-py2.py3-none-any.whl size=115929 sha256=05b6e842d090dc02821d3dbf288f50c469e2362061c8d610b0abe0426e5a4f2c\n",
      "  Stored in directory: /tmp/pip-ephem-wheel-cache-zl92s5bu/wheels/8a/67/fb/2e8a12fa16661b9d5af1f654bd199366799740a85c64981226\n",
      "  Building wheel for ordered-set (setup.py) ... \u001b[?25ldone\n",
      "\u001b[?25h  Created wheel for ordered-set: filename=ordered_set-4.0.2-py2.py3-none-any.whl size=8209 sha256=7ceb690723e761ecae1e9381e8300bd13bacbb3a64e5905376a1392f8589b7c1\n",
      "  Stored in directory: /tmp/pip-ephem-wheel-cache-zl92s5bu/wheels/73/2b/f6/26e9f84153c25050fe7c09e88f8e32a6be3c7034a38c418319\n",
      "Successfully built kfp adlfs aiobotocore docstring-parser fire ordered-set\n",
      "Installing collected packages: fsspec, dask, distributed, pydantic, starlette, fastapi, google-auth, kubernetes, httplib2, uritemplate, google-auth-httplib2, google-api-python-client, tabulate, docstring-parser, kfp-pipeline-spec, fire, typer, kfp, python-dotenv, pandas, v3io-frames, orjson, v3io, charset-normalizer, asynctest, frozenlist, async-timeout, aiosignal, aiohttp, ordered-set, deepdiff, v3iofs, storey, botocore, s3transfer, boto3, nuclio-jupyter, humanfriendly, mergedeep, semver, inflection, cryptography, pymysql, Mako, python-editor, alembic, tenacity, plotly, gcsfs, aioitertools, aiobotocore, s3fs, azure-core, azure-datalake-store, msal, portalocker, msal-extensions, azure-identity, isodate, msrest, azure-storage-blob, adlfs, azure-common, azure-keyvault-secrets, mlrun\n",
      "  Attempting uninstall: fsspec\n",
      "    Found existing installation: fsspec 0.8.3\n",
      "    Uninstalling fsspec-0.8.3:\n",
      "      Successfully uninstalled fsspec-0.8.3\n",
      "  Attempting uninstall: dask\n",
      "    Found existing installation: dask 2.30.0\n",
      "    Uninstalling dask-2.30.0:\n",
      "      Successfully uninstalled dask-2.30.0\n",
      "  Attempting uninstall: distributed\n",
      "    Found existing installation: distributed 2.30.0\n",
      "    Uninstalling distributed-2.30.0:\n",
      "      Successfully uninstalled distributed-2.30.0\n",
      "  Attempting uninstall: google-auth\n",
      "    Found existing installation: google-auth 1.22.1\n",
      "    Uninstalling google-auth-1.22.1:\n",
      "      Successfully uninstalled google-auth-1.22.1\n",
      "  Attempting uninstall: kubernetes\n",
      "    Found existing installation: kubernetes 11.0.0\n",
      "    Uninstalling kubernetes-11.0.0:\n",
      "      Successfully uninstalled kubernetes-11.0.0\n",
      "  Attempting uninstall: tabulate\n",
      "    Found existing installation: tabulate 0.8.3\n",
      "    Uninstalling tabulate-0.8.3:\n",
      "      Successfully uninstalled tabulate-0.8.3\n",
      "  Attempting uninstall: kfp\n",
      "    Found existing installation: kfp 1.0.1\n",
      "    Uninstalling kfp-1.0.1:\n",
      "      Successfully uninstalled kfp-1.0.1\n",
      "  Attempting uninstall: pandas\n",
      "    Found existing installation: pandas 1.1.3\n",
      "    Uninstalling pandas-1.1.3:\n",
      "      Successfully uninstalled pandas-1.1.3\n",
      "  Attempting uninstall: v3io-frames\n",
      "    Found existing installation: v3io-frames 0.9.6\n",
      "    Uninstalling v3io-frames-0.9.6:\n",
      "      Successfully uninstalled v3io-frames-0.9.6\n",
      "  Attempting uninstall: v3io\n",
      "    Found existing installation: v3io 0.5.7\n",
      "    Uninstalling v3io-0.5.7:\n",
      "      Successfully uninstalled v3io-0.5.7\n",
      "  Attempting uninstall: async-timeout\n",
      "    Found existing installation: async-timeout 3.0.1\n",
      "    Uninstalling async-timeout-3.0.1:\n",
      "      Successfully uninstalled async-timeout-3.0.1\n",
      "  Attempting uninstall: aiohttp\n",
      "    Found existing installation: aiohttp 3.6.3\n",
      "    Uninstalling aiohttp-3.6.3:\n",
      "      Successfully uninstalled aiohttp-3.6.3\n",
      "  Attempting uninstall: botocore\n",
      "    Found existing installation: botocore 1.23.38\n",
      "    Uninstalling botocore-1.23.38:\n",
      "      Successfully uninstalled botocore-1.23.38\n",
      "  Attempting uninstall: s3transfer\n",
      "    Found existing installation: s3transfer 0.5.0\n",
      "    Uninstalling s3transfer-0.5.0:\n",
      "      Successfully uninstalled s3transfer-0.5.0\n",
      "  Attempting uninstall: boto3\n",
      "    Found existing installation: boto3 1.20.38\n",
      "    Uninstalling boto3-1.20.38:\n",
      "      Successfully uninstalled boto3-1.20.38\n",
      "  Attempting uninstall: nuclio-jupyter\n",
      "    Found existing installation: nuclio-jupyter 0.8.9\n",
      "    Uninstalling nuclio-jupyter-0.8.9:\n",
      "      Successfully uninstalled nuclio-jupyter-0.8.9\n",
      "  Attempting uninstall: cryptography\n",
      "    Found existing installation: cryptography 2.6.1\n",
      "    Uninstalling cryptography-2.6.1:\n",
      "      Successfully uninstalled cryptography-2.6.1\n",
      "  Attempting uninstall: pymysql\n",
      "    Found existing installation: PyMySQL 0.10.1\n",
      "    Uninstalling PyMySQL-0.10.1:\n",
      "      Successfully uninstalled PyMySQL-0.10.1\n",
      "\u001b[31mERROR: After October 2020 you may experience errors when installing or updating packages. This is because pip will change the way that it resolves dependency conflicts.\n",
      "\n",
      "We recommend you use --use-feature=2020-resolver to test your packages with the new resolver before it becomes the default.\n",
      "\n",
      "kfp 1.8.11 requires cloudpickle<3,>=2.0.0, but you'll have cloudpickle 1.6.0 which is incompatible.\n",
      "google-api-python-client 1.12.10 requires six<2dev,>=1.13.0, but you'll have six 1.12.0 which is incompatible.\n",
      "storey 0.10.5 requires grpcio<1.42,>1.34.0, but you'll have grpcio 1.32.0 which is incompatible.\n",
      "storey 0.10.5 requires grpcio-tools<1.42,>1.34.0, but you'll have grpcio-tools 1.32.0 which is incompatible.\n",
      "aioitertools 0.10.0 requires typing_extensions>=4.0; python_version < \"3.10\", but you'll have typing-extensions 3.7.4.3 which is incompatible.\n",
      "azure-core 1.23.0 requires typing-extensions>=4.0.1, but you'll have typing-extensions 3.7.4.3 which is incompatible.\u001b[0m\n",
      "Successfully installed Mako adlfs aiobotocore aiohttp aioitertools aiosignal alembic async-timeout asynctest azure-common azure-core azure-datalake-store azure-identity azure-keyvault-secrets azure-storage-blob boto3 botocore charset-normalizer cryptography dask deepdiff distributed docstring-parser fastapi fire frozenlist fsspec gcsfs google-api-python-client google-auth google-auth-httplib2 httplib2 humanfriendly inflection isodate kfp kfp-pipeline-spec kubernetes mergedeep mlrun msal msal-extensions msrest nuclio-jupyter ordered-set orjson pandas plotly portalocker pydantic pymysql python-dotenv python-editor s3fs s3transfer semver starlette storey tabulate tenacity typer uritemplate v3io v3io-frames v3iofs\n"
     ]
    }
   ],
   "source": [
    "# uncomment the command below\n",
    "!/User/align_mlrun.sh"
   ]
  },
  {
   "cell_type": "markdown",
   "metadata": {},
   "source": [
    "#### Kernel Restart\n",
    "After installing or updating the MLRun package, restart the notebook kernel in your environment!"
   ]
  },
  {
   "cell_type": "markdown",
   "metadata": {},
   "source": [
    " ## Step 1: Create a project"
   ]
  },
  {
   "cell_type": "markdown",
   "metadata": {},
   "source": [
    "Project is a key entity in Iguazio's platform. Every object we create (e.g. runs, functions, workflows, features, artifacts, models, etc.) are associated with a `project` namespace.<br>\n",
    "Run the following code to initialize your MLRun environment to use a \"quick-start-tutorial-&lt;username&gt;\"project <br>\n",
    "For more information about MLRun projects, see the MLRun [projects documentation](https://docs.mlrun.org/en/latest/projects/project.html)."
   ]
  },
  {
   "cell_type": "code",
   "execution_count": 1,
   "metadata": {},
   "outputs": [],
   "source": [
    "from os import path\n",
    "import mlrun"
   ]
  },
  {
   "cell_type": "code",
   "execution_count": 2,
   "metadata": {},
   "outputs": [
    {
     "name": "stdout",
     "output_type": "stream",
     "text": [
      "> 2022-03-08 08:11:35,662 [info] loaded project quick-start-tutorial from MLRun DB\n"
     ]
    }
   ],
   "source": [
    "project_name_base = 'quick-start-tutorial'\n",
    "project = mlrun.get_or_create_project(project_name_base, context=\"./\", user_project=True)"
   ]
  },
  {
   "cell_type": "markdown",
   "metadata": {},
   "source": [
    "## Step 2: Load data\n",
    "\n",
    "In this step you'll learn how to write a simple funciton that loads data into Iguazio platform and then how to convert it to a function (i.e. MLrun function) that can run on Iguazio's kubernetes cluster"
   ]
  },
  {
   "cell_type": "markdown",
   "metadata": {},
   "source": [
    "The MLRun function has the following parameters:\n",
    "\n",
    "- `context` - This allows you to log and retrieve information related to the function's execution.\n",
    "- `source_url` - uses to send a data item as input when the function is called (using the `inputs` parameter).\n",
    "\n",
    "The function code works as follows:\n",
    "- Obtain a pandas DataFrame from the `source_url` data item by calling the `as_df` method.\n",
    "- Record the number of rows using the `log_result` method. \n",
    "    This method records (logs) the values of standard function variables (for example, int, float, string, and list).\n",
    "- Log the data-set artifact using the `log_dataset` method.\n",
    "    This method saves and logs function data items and related metadata (logs function artifacts)."
   ]
  },
  {
   "cell_type": "code",
   "execution_count": 3,
   "metadata": {},
   "outputs": [],
   "source": [
    "# mlrun: start-code"
   ]
  },
  {
   "cell_type": "code",
   "execution_count": 4,
   "metadata": {},
   "outputs": [],
   "source": [
    "import mlrun\n",
    "def prep_data(context, source_url: mlrun.DataItem, label_column='label'):\n",
    "\n",
    "    # Convert the DataItem to a pandas DataFrame\n",
    "    df = source_url.as_df()\n",
    "    df[label_column] = df[label_column].astype('category').cat.codes    \n",
    "    \n",
    "    # Log the DataFrame size after the run\n",
    "    context.log_result('num_rows', df.shape[0])\n",
    "\n",
    "    # Store the dataset in your artifacts database\n",
    "    context.log_dataset('cleaned_data', df=df, index=False, format='csv')"
   ]
  },
  {
   "cell_type": "code",
   "execution_count": 5,
   "metadata": {},
   "outputs": [],
   "source": [
    "# mlrun: end-code"
   ]
  },
  {
   "cell_type": "markdown",
   "metadata": {},
   "source": [
    "#### Converting the Notebook Code to a Function\n",
    "\n",
    "Now, we'll take the code above and convert it to a code (i.e. mlrun function) that can run on kubernetes cluster. we'll be using a command called code_to_function for running the conversion.  MLRun annotations are used to identify the code that needs to be converted into an MLRun function.\n",
    "They provide non-intrusive hints that indicate which parts of your notebook are the code of the function.\n",
    "For more information on how to use MLRun functions, see [creating and using functions](https://docs.mlrun.org/en/latest/runtimes/using-functions.html).\n"
   ]
  },
  {
   "cell_type": "code",
   "execution_count": 6,
   "metadata": {},
   "outputs": [
    {
     "name": "stdout",
     "output_type": "stream",
     "text": [
      "> 2022-03-08 08:11:49,795 [info] starting run prep_data uid=1b68f4020d884bdd83510fa4ce12a486 DB=http://mlrun-api:8080\n",
      "> 2022-03-08 08:11:49,917 [info] Job is running in the background, pod: prep-data-tckvl\n",
      "> 2022-03-08 08:12:28,712 [info] run executed, status=completed\n",
      "final state: completed\n"
     ]
    },
    {
     "data": {
      "text/html": [
       "<style>\n",
       ".dictlist {\n",
       "  background-color: #4EC64B;\n",
       "  text-align: center;\n",
       "  margin: 4px;\n",
       "  border-radius: 3px; padding: 0px 3px 1px 3px; display: inline-block;}\n",
       ".artifact {\n",
       "  cursor: pointer;\n",
       "  background-color: #4EC64B;\n",
       "  text-align: left;\n",
       "  margin: 4px; border-radius: 3px; padding: 0px 3px 1px 3px; display: inline-block;\n",
       "}\n",
       "div.block.hidden {\n",
       "  display: none;\n",
       "}\n",
       ".clickable {\n",
       "  cursor: pointer;\n",
       "}\n",
       ".ellipsis {\n",
       "  display: inline-block;\n",
       "  max-width: 60px;\n",
       "  white-space: nowrap;\n",
       "  overflow: hidden;\n",
       "  text-overflow: ellipsis;\n",
       "}\n",
       ".master-wrapper {\n",
       "  display: flex;\n",
       "  flex-flow: row nowrap;\n",
       "  justify-content: flex-start;\n",
       "  align-items: stretch;\n",
       "}\n",
       ".master-tbl {\n",
       "  flex: 3\n",
       "}\n",
       ".master-wrapper > div {\n",
       "  margin: 4px;\n",
       "  padding: 10px;\n",
       "}\n",
       "iframe.fileview {\n",
       "  border: 0 none;\n",
       "  height: 100%;\n",
       "  width: 100%;\n",
       "  white-space: pre-wrap;\n",
       "}\n",
       ".pane-header-title {\n",
       "  width: 80%;\n",
       "  font-weight: 500;\n",
       "}\n",
       ".pane-header {\n",
       "  line-height: 1;\n",
       "  background-color: #4EC64B;\n",
       "  padding: 3px;\n",
       "}\n",
       ".pane-header .close {\n",
       "  font-size: 20px;\n",
       "  font-weight: 700;\n",
       "  float: right;\n",
       "  margin-top: -5px;\n",
       "}\n",
       ".master-wrapper .right-pane {\n",
       "  border: 1px inset silver;\n",
       "  width: 40%;\n",
       "  min-height: 300px;\n",
       "  flex: 3\n",
       "  min-width: 500px;\n",
       "}\n",
       ".master-wrapper * {\n",
       "  box-sizing: border-box;\n",
       "}\n",
       "</style><script>\n",
       "function copyToClipboard(fld) {\n",
       "    if (document.queryCommandSupported && document.queryCommandSupported('copy')) {\n",
       "        var textarea = document.createElement('textarea');\n",
       "        textarea.textContent = fld.innerHTML;\n",
       "        textarea.style.position = 'fixed';\n",
       "        document.body.appendChild(textarea);\n",
       "        textarea.select();\n",
       "\n",
       "        try {\n",
       "            return document.execCommand('copy'); // Security exception may be thrown by some browsers.\n",
       "        } catch (ex) {\n",
       "\n",
       "        } finally {\n",
       "            document.body.removeChild(textarea);\n",
       "        }\n",
       "    }\n",
       "}\n",
       "function expandPanel(el) {\n",
       "  const panelName = \"#\" + el.getAttribute('paneName');\n",
       "  console.log(el.title);\n",
       "\n",
       "  document.querySelector(panelName + \"-title\").innerHTML = el.title\n",
       "  iframe = document.querySelector(panelName + \"-body\");\n",
       "\n",
       "  const tblcss = `<style> body { font-family: Arial, Helvetica, sans-serif;}\n",
       "    #csv { margin-bottom: 15px; }\n",
       "    #csv table { border-collapse: collapse;}\n",
       "    #csv table td { padding: 4px 8px; border: 1px solid silver;} </style>`;\n",
       "\n",
       "  function csvToHtmlTable(str) {\n",
       "    return '<div id=\"csv\"><table><tr><td>' +  str.replace(/[\\n\\r]+$/g, '').replace(/[\\n\\r]+/g, '</td></tr><tr><td>')\n",
       "      .replace(/,/g, '</td><td>') + '</td></tr></table></div>';\n",
       "  }\n",
       "\n",
       "  function reqListener () {\n",
       "    if (el.title.endsWith(\".csv\")) {\n",
       "      iframe.setAttribute(\"srcdoc\", tblcss + csvToHtmlTable(this.responseText));\n",
       "    } else {\n",
       "      iframe.setAttribute(\"srcdoc\", this.responseText);\n",
       "    }\n",
       "    console.log(this.responseText);\n",
       "  }\n",
       "\n",
       "  const oReq = new XMLHttpRequest();\n",
       "  oReq.addEventListener(\"load\", reqListener);\n",
       "  oReq.open(\"GET\", el.title);\n",
       "  oReq.send();\n",
       "\n",
       "\n",
       "  //iframe.src = el.title;\n",
       "  const resultPane = document.querySelector(panelName + \"-pane\");\n",
       "  if (resultPane.classList.contains(\"hidden\")) {\n",
       "    resultPane.classList.remove(\"hidden\");\n",
       "  }\n",
       "}\n",
       "function closePanel(el) {\n",
       "  const panelName = \"#\" + el.getAttribute('paneName')\n",
       "  const resultPane = document.querySelector(panelName + \"-pane\");\n",
       "  if (!resultPane.classList.contains(\"hidden\")) {\n",
       "    resultPane.classList.add(\"hidden\");\n",
       "  }\n",
       "}\n",
       "\n",
       "</script>\n",
       "<div class=\"master-wrapper\">\n",
       "  <div class=\"block master-tbl\"><div>\n",
       "<style scoped>\n",
       "    .dataframe tbody tr th:only-of-type {\n",
       "        vertical-align: middle;\n",
       "    }\n",
       "\n",
       "    .dataframe tbody tr th {\n",
       "        vertical-align: top;\n",
       "    }\n",
       "\n",
       "    .dataframe thead th {\n",
       "        text-align: right;\n",
       "    }\n",
       "</style>\n",
       "<table border=\"1\" class=\"dataframe\">\n",
       "  <thead>\n",
       "    <tr style=\"text-align: right;\">\n",
       "      <th>project</th>\n",
       "      <th>uid</th>\n",
       "      <th>iter</th>\n",
       "      <th>start</th>\n",
       "      <th>state</th>\n",
       "      <th>name</th>\n",
       "      <th>labels</th>\n",
       "      <th>inputs</th>\n",
       "      <th>parameters</th>\n",
       "      <th>results</th>\n",
       "      <th>artifacts</th>\n",
       "    </tr>\n",
       "  </thead>\n",
       "  <tbody>\n",
       "    <tr>\n",
       "      <td>quick-start-tutorial-admin</td>\n",
       "      <td><div title=\"1b68f4020d884bdd83510fa4ce12a486\"><a href=\"https://dashboard.default-tenant.app.product-3-2-3-a.iguazio-cd0.com/mlprojects/quick-start-tutorial-admin/jobs/monitor/1b68f4020d884bdd83510fa4ce12a486/overview\" target=\"_blank\" >...ce12a486</a></div></td>\n",
       "      <td>0</td>\n",
       "      <td>Mar 08 08:12:27</td>\n",
       "      <td>completed</td>\n",
       "      <td>prep_data</td>\n",
       "      <td><div class=\"dictlist\">v3io_user=admin</div><div class=\"dictlist\">kind=job</div><div class=\"dictlist\">owner=admin</div><div class=\"dictlist\">mlrun/client_version=0.10.0</div><div class=\"dictlist\">host=prep-data-tckvl</div></td>\n",
       "      <td><div title=\"https://s3.wasabisys.com/iguazio/data/iris/iris.data.raw.csv\">source_url</div></td>\n",
       "      <td></td>\n",
       "      <td><div class=\"dictlist\">num_rows=150</div></td>\n",
       "      <td><div class=\"artifact\" onclick=\"expandPanel(this)\" paneName=\"result017cd353\" title=\"files/v3io/projects/quick-start-tutorial-admin/artifacts/cleaned_data.csv\">cleaned_data</div></td>\n",
       "    </tr>\n",
       "  </tbody>\n",
       "</table>\n",
       "</div></div>\n",
       "  <div id=\"result017cd353-pane\" class=\"right-pane block hidden\">\n",
       "    <div class=\"pane-header\">\n",
       "      <span id=\"result017cd353-title\" class=\"pane-header-title\">Title</span>\n",
       "      <span onclick=\"closePanel(this)\" paneName=\"result017cd353\" class=\"close clickable\">&times;</span>\n",
       "    </div>\n",
       "    <iframe class=\"fileview\" id=\"result017cd353-body\"></iframe>\n",
       "  </div>\n",
       "</div>\n"
      ],
      "text/plain": [
       "<IPython.core.display.HTML object>"
      ]
     },
     "metadata": {},
     "output_type": "display_data"
    },
    {
     "name": "stdout",
     "output_type": "stream",
     "text": [
      "\n"
     ]
    },
    {
     "data": {
      "text/html": [
       "<b> > to track results use the .show() or .logs() methods  or <a href=\"https://dashboard.default-tenant.app.product-3-2-3-a.iguazio-cd0.com/mlprojects/quick-start-tutorial-admin/jobs/monitor/1b68f4020d884bdd83510fa4ce12a486/overview\" target=\"_blank\">click here</a> to open in UI</b>"
      ],
      "text/plain": [
       "<IPython.core.display.HTML object>"
      ]
     },
     "metadata": {},
     "output_type": "display_data"
    },
    {
     "name": "stdout",
     "output_type": "stream",
     "text": [
      "> 2022-03-08 08:12:29,320 [info] run executed, status=completed\n"
     ]
    }
   ],
   "source": [
    "# Convert the local prep_data function to an MLRun project function\n",
    "data_prep_func = mlrun.code_to_function(name='prep_data', kind='job', image='mlrun/mlrun')\n",
    "\n",
    "source_url = mlrun.get_sample_path(\"data/iris/iris.data.raw.csv\")\n",
    "\n",
    "prep_data_run = data_prep_func.run(name='prep_data',\n",
    "                                   handler='prep_data',\n",
    "                                   inputs={'source_url': source_url},\n",
    "                                   local=False)"
   ]
  },
  {
   "cell_type": "markdown",
   "metadata": {},
   "source": [
    "<a id=\"gs-tutorial-1-step-run-func-on-cluster\"></a>"
   ]
  },
  {
   "cell_type": "markdown",
   "metadata": {},
   "source": [
    "## Step 3 -  Train a classification model"
   ]
  },
  {
   "cell_type": "markdown",
   "metadata": {},
   "source": [
    "Next, we'll train a classifier model on the iris dataset. we'll use a training function that generates a model and log various model statistics and metadata. <br>\n",
    "This will be done automatically by using MLRun `auto logging`. \n",
    "MLRun can apply all the MLOps functionality by simply using the framework specific `apply_mlrun()` method which manages the training process and automatically logs all the framework specific model details, data, metadata and metrics. \n",
    "\n",
    "To log the training results and store a model named `my_model`, we simply need to add the following lines:\n",
    "\n",
    "``` python\n",
    "from mlrun.frameworks.sklearn import apply_mlrun\n",
    "apply_mlrun(model, context, model_name='my_model', x_test=X_test, y_test=y_test)\n",
    "```\n"
   ]
  },
  {
   "cell_type": "code",
   "execution_count": 7,
   "metadata": {},
   "outputs": [],
   "source": [
    "# mlrun: start-code"
   ]
  },
  {
   "cell_type": "code",
   "execution_count": 8,
   "metadata": {},
   "outputs": [],
   "source": [
    "from sklearn import ensemble\n",
    "from sklearn.model_selection import train_test_split\n",
    "from mlrun.frameworks.sklearn import apply_mlrun\n",
    "import mlrun"
   ]
  },
  {
   "cell_type": "code",
   "execution_count": 9,
   "metadata": {},
   "outputs": [],
   "source": [
    "def train_iris(dataset: mlrun.DataItem, label_column: str):\n",
    "    \n",
    "    # Initialize our dataframes\n",
    "    df = dataset.as_df()\n",
    "    X = df.drop(label_column, axis=1)\n",
    "    y = df[label_column]\n",
    "\n",
    "    # Train/Test split Iris data-set\n",
    "    X_train, X_test, y_train, y_test = train_test_split(X, y, test_size=0.2, random_state=42)\n",
    "    \n",
    "    # Pick an ideal ML model\n",
    "    model = ensemble.RandomForestClassifier()\n",
    "    \n",
    "    # Wrap our model with Mlrun features, specify the test dataset for analysis and accuracy measurements\n",
    "    apply_mlrun(model=model, model_name='my_model', x_test=X_test, y_test=y_test)\n",
    "    \n",
    "    # Train our model\n",
    "    model.fit(X_train, y_train)"
   ]
  },
  {
   "cell_type": "code",
   "execution_count": 10,
   "metadata": {},
   "outputs": [],
   "source": [
    "# mlrun: end-code"
   ]
  },
  {
   "cell_type": "code",
   "execution_count": 11,
   "metadata": {},
   "outputs": [],
   "source": [
    "train_iris_func = mlrun.code_to_function(name='train_iris',\n",
    "                                         handler='train_iris',\n",
    "                                         kind='job',\n",
    "                                         image='mlrun/mlrun')"
   ]
  },
  {
   "cell_type": "code",
   "execution_count": 12,
   "metadata": {},
   "outputs": [],
   "source": [
    "# Our dataset location (uri)\n",
    "dataset = project.get_artifact_uri('prep_data_cleaned_data')"
   ]
  },
  {
   "cell_type": "code",
   "execution_count": 13,
   "metadata": {},
   "outputs": [
    {
     "name": "stdout",
     "output_type": "stream",
     "text": [
      "> 2022-03-08 08:13:15,507 [info] starting run train-iris-train_iris uid=af978d254dc1496b8c1e2d2b4b6113f0 DB=http://mlrun-api:8080\n"
     ]
    },
    {
     "data": {
      "text/html": [
       "<style>\n",
       ".dictlist {\n",
       "  background-color: #4EC64B;\n",
       "  text-align: center;\n",
       "  margin: 4px;\n",
       "  border-radius: 3px; padding: 0px 3px 1px 3px; display: inline-block;}\n",
       ".artifact {\n",
       "  cursor: pointer;\n",
       "  background-color: #4EC64B;\n",
       "  text-align: left;\n",
       "  margin: 4px; border-radius: 3px; padding: 0px 3px 1px 3px; display: inline-block;\n",
       "}\n",
       "div.block.hidden {\n",
       "  display: none;\n",
       "}\n",
       ".clickable {\n",
       "  cursor: pointer;\n",
       "}\n",
       ".ellipsis {\n",
       "  display: inline-block;\n",
       "  max-width: 60px;\n",
       "  white-space: nowrap;\n",
       "  overflow: hidden;\n",
       "  text-overflow: ellipsis;\n",
       "}\n",
       ".master-wrapper {\n",
       "  display: flex;\n",
       "  flex-flow: row nowrap;\n",
       "  justify-content: flex-start;\n",
       "  align-items: stretch;\n",
       "}\n",
       ".master-tbl {\n",
       "  flex: 3\n",
       "}\n",
       ".master-wrapper > div {\n",
       "  margin: 4px;\n",
       "  padding: 10px;\n",
       "}\n",
       "iframe.fileview {\n",
       "  border: 0 none;\n",
       "  height: 100%;\n",
       "  width: 100%;\n",
       "  white-space: pre-wrap;\n",
       "}\n",
       ".pane-header-title {\n",
       "  width: 80%;\n",
       "  font-weight: 500;\n",
       "}\n",
       ".pane-header {\n",
       "  line-height: 1;\n",
       "  background-color: #4EC64B;\n",
       "  padding: 3px;\n",
       "}\n",
       ".pane-header .close {\n",
       "  font-size: 20px;\n",
       "  font-weight: 700;\n",
       "  float: right;\n",
       "  margin-top: -5px;\n",
       "}\n",
       ".master-wrapper .right-pane {\n",
       "  border: 1px inset silver;\n",
       "  width: 40%;\n",
       "  min-height: 300px;\n",
       "  flex: 3\n",
       "  min-width: 500px;\n",
       "}\n",
       ".master-wrapper * {\n",
       "  box-sizing: border-box;\n",
       "}\n",
       "</style><script>\n",
       "function copyToClipboard(fld) {\n",
       "    if (document.queryCommandSupported && document.queryCommandSupported('copy')) {\n",
       "        var textarea = document.createElement('textarea');\n",
       "        textarea.textContent = fld.innerHTML;\n",
       "        textarea.style.position = 'fixed';\n",
       "        document.body.appendChild(textarea);\n",
       "        textarea.select();\n",
       "\n",
       "        try {\n",
       "            return document.execCommand('copy'); // Security exception may be thrown by some browsers.\n",
       "        } catch (ex) {\n",
       "\n",
       "        } finally {\n",
       "            document.body.removeChild(textarea);\n",
       "        }\n",
       "    }\n",
       "}\n",
       "function expandPanel(el) {\n",
       "  const panelName = \"#\" + el.getAttribute('paneName');\n",
       "  console.log(el.title);\n",
       "\n",
       "  document.querySelector(panelName + \"-title\").innerHTML = el.title\n",
       "  iframe = document.querySelector(panelName + \"-body\");\n",
       "\n",
       "  const tblcss = `<style> body { font-family: Arial, Helvetica, sans-serif;}\n",
       "    #csv { margin-bottom: 15px; }\n",
       "    #csv table { border-collapse: collapse;}\n",
       "    #csv table td { padding: 4px 8px; border: 1px solid silver;} </style>`;\n",
       "\n",
       "  function csvToHtmlTable(str) {\n",
       "    return '<div id=\"csv\"><table><tr><td>' +  str.replace(/[\\n\\r]+$/g, '').replace(/[\\n\\r]+/g, '</td></tr><tr><td>')\n",
       "      .replace(/,/g, '</td><td>') + '</td></tr></table></div>';\n",
       "  }\n",
       "\n",
       "  function reqListener () {\n",
       "    if (el.title.endsWith(\".csv\")) {\n",
       "      iframe.setAttribute(\"srcdoc\", tblcss + csvToHtmlTable(this.responseText));\n",
       "    } else {\n",
       "      iframe.setAttribute(\"srcdoc\", this.responseText);\n",
       "    }\n",
       "    console.log(this.responseText);\n",
       "  }\n",
       "\n",
       "  const oReq = new XMLHttpRequest();\n",
       "  oReq.addEventListener(\"load\", reqListener);\n",
       "  oReq.open(\"GET\", el.title);\n",
       "  oReq.send();\n",
       "\n",
       "\n",
       "  //iframe.src = el.title;\n",
       "  const resultPane = document.querySelector(panelName + \"-pane\");\n",
       "  if (resultPane.classList.contains(\"hidden\")) {\n",
       "    resultPane.classList.remove(\"hidden\");\n",
       "  }\n",
       "}\n",
       "function closePanel(el) {\n",
       "  const panelName = \"#\" + el.getAttribute('paneName')\n",
       "  const resultPane = document.querySelector(panelName + \"-pane\");\n",
       "  if (!resultPane.classList.contains(\"hidden\")) {\n",
       "    resultPane.classList.add(\"hidden\");\n",
       "  }\n",
       "}\n",
       "\n",
       "</script>\n",
       "<div class=\"master-wrapper\">\n",
       "  <div class=\"block master-tbl\"><div>\n",
       "<style scoped>\n",
       "    .dataframe tbody tr th:only-of-type {\n",
       "        vertical-align: middle;\n",
       "    }\n",
       "\n",
       "    .dataframe tbody tr th {\n",
       "        vertical-align: top;\n",
       "    }\n",
       "\n",
       "    .dataframe thead th {\n",
       "        text-align: right;\n",
       "    }\n",
       "</style>\n",
       "<table border=\"1\" class=\"dataframe\">\n",
       "  <thead>\n",
       "    <tr style=\"text-align: right;\">\n",
       "      <th>project</th>\n",
       "      <th>uid</th>\n",
       "      <th>iter</th>\n",
       "      <th>start</th>\n",
       "      <th>state</th>\n",
       "      <th>name</th>\n",
       "      <th>labels</th>\n",
       "      <th>inputs</th>\n",
       "      <th>parameters</th>\n",
       "      <th>results</th>\n",
       "      <th>artifacts</th>\n",
       "    </tr>\n",
       "  </thead>\n",
       "  <tbody>\n",
       "    <tr>\n",
       "      <td>quick-start-tutorial-admin</td>\n",
       "      <td><div title=\"af978d254dc1496b8c1e2d2b4b6113f0\"><a href=\"https://dashboard.default-tenant.app.product-3-2-3-a.iguazio-cd0.com/mlprojects/quick-start-tutorial-admin/jobs/monitor/af978d254dc1496b8c1e2d2b4b6113f0/overview\" target=\"_blank\" >...4b6113f0</a></div></td>\n",
       "      <td>0</td>\n",
       "      <td>Mar 08 08:13:15</td>\n",
       "      <td>completed</td>\n",
       "      <td>train-iris-train_iris</td>\n",
       "      <td><div class=\"dictlist\">v3io_user=admin</div><div class=\"dictlist\">kind=</div><div class=\"dictlist\">owner=admin</div><div class=\"dictlist\">host=jupyter-admin-5f8d9cd4d8-mz42n</div></td>\n",
       "      <td><div title=\"store://artifacts/quick-start-tutorial-admin/prep_data_cleaned_data\">dataset</div></td>\n",
       "      <td><div class=\"dictlist\">label_column=label</div></td>\n",
       "      <td><div class=\"dictlist\">accuracy=1.0</div><div class=\"dictlist\">f1_score=1.0</div><div class=\"dictlist\">precision_score=1.0</div><div class=\"dictlist\">recall_score=1.0</div><div class=\"dictlist\">auc-micro=1.0</div><div class=\"dictlist\">auc-macro=1.0</div><div class=\"dictlist\">auc-weighted=1.0</div></td>\n",
       "      <td><div class=\"artifact\" onclick=\"expandPanel(this)\" paneName=\"result0b6a0d89\" title=\"files/v3io/projects/quick-start-tutorial-admin/artifacts/feature-importance.html\">feature-importance</div><div title=\"v3io:///projects/quick-start-tutorial-admin/artifacts/test_set.parquet\">test_set</div><div class=\"artifact\" onclick=\"expandPanel(this)\" paneName=\"result0b6a0d89\" title=\"files/v3io/projects/quick-start-tutorial-admin/artifacts/confusion-matrix.html\">confusion-matrix</div><div class=\"artifact\" onclick=\"expandPanel(this)\" paneName=\"result0b6a0d89\" title=\"files/v3io/projects/quick-start-tutorial-admin/artifacts/roc-curves.html\">roc-curves</div><div title=\"v3io:///projects/quick-start-tutorial-admin/artifacts/\">model</div></td>\n",
       "    </tr>\n",
       "  </tbody>\n",
       "</table>\n",
       "</div></div>\n",
       "  <div id=\"result0b6a0d89-pane\" class=\"right-pane block hidden\">\n",
       "    <div class=\"pane-header\">\n",
       "      <span id=\"result0b6a0d89-title\" class=\"pane-header-title\">Title</span>\n",
       "      <span onclick=\"closePanel(this)\" paneName=\"result0b6a0d89\" class=\"close clickable\">&times;</span>\n",
       "    </div>\n",
       "    <iframe class=\"fileview\" id=\"result0b6a0d89-body\"></iframe>\n",
       "  </div>\n",
       "</div>\n"
      ],
      "text/plain": [
       "<IPython.core.display.HTML object>"
      ]
     },
     "metadata": {},
     "output_type": "display_data"
    },
    {
     "name": "stdout",
     "output_type": "stream",
     "text": [
      "\n"
     ]
    },
    {
     "data": {
      "text/html": [
       "<b> > to track results use the .show() or .logs() methods  or <a href=\"https://dashboard.default-tenant.app.product-3-2-3-a.iguazio-cd0.com/mlprojects/quick-start-tutorial-admin/jobs/monitor/af978d254dc1496b8c1e2d2b4b6113f0/overview\" target=\"_blank\">click here</a> to open in UI</b>"
      ],
      "text/plain": [
       "<IPython.core.display.HTML object>"
      ]
     },
     "metadata": {},
     "output_type": "display_data"
    },
    {
     "name": "stdout",
     "output_type": "stream",
     "text": [
      "> 2022-03-08 08:13:17,147 [info] run executed, status=completed\n"
     ]
    }
   ],
   "source": [
    "# train the model\n",
    "train_run = train_iris_func.run(inputs={'dataset': dataset},\n",
    "                                params={'label_column': 'label'},local=True)"
   ]
  },
  {
   "cell_type": "markdown",
   "metadata": {},
   "source": [
    "## Step 4 - Deploy the model with an endpoint\n",
    "\n",
    "Next, we'll deploy the model as a serving function with a http endpoint. This enable users to send http requests and get the response back\n",
    "\n",
    "The serving class is initialized automatically by the model server.\n",
    "All you need is to implement two mandatory methods:\n",
    "\n",
    "- `load` &mdash; downloads the model files and loads the model into memory.\n",
    "    This can be done either synchronously or asynchronously.\n",
    "- `predict` &mdash; accepts a request payload and returns prediction (inference) results.\n",
    "\n",
    "For more detailed information on serving classes, see the [MLRun documentation](https://github.com/mlrun/mlrun/blob/release/v0.6.x-latest/mlrun/serving/README.md).\n",
    "\n",
    "The following code demonstrates a minimal scikit-learn (a.k.a. sklearn) serving-class implementation:"
   ]
  },
  {
   "cell_type": "code",
   "execution_count": 14,
   "metadata": {},
   "outputs": [],
   "source": [
    "# mlrun: start-code"
   ]
  },
  {
   "cell_type": "code",
   "execution_count": 15,
   "metadata": {},
   "outputs": [],
   "source": [
    "from cloudpickle import load\n",
    "import numpy as np\n",
    "from typing import List\n",
    "import mlrun\n",
    "\n",
    "class ClassifierModel(mlrun.serving.V2ModelServer):\n",
    "    def load(self):\n",
    "        \"\"\"load and initialize the model and/or other elements\"\"\"\n",
    "        model_file, extra_data = self.get_model('.pkl')\n",
    "        self.model = load(open(model_file, 'rb'))\n",
    "\n",
    "    def predict(self, body: dict) -> List:\n",
    "        \"\"\"Generate model predictions from sample.\"\"\"\n",
    "        feats = np.asarray(body['inputs'])\n",
    "        result: np.ndarray = self.model.predict(feats)\n",
    "        return result.tolist()"
   ]
  },
  {
   "cell_type": "code",
   "execution_count": 16,
   "metadata": {},
   "outputs": [],
   "source": [
    "# mlrun: end-code"
   ]
  },
  {
   "cell_type": "markdown",
   "metadata": {},
   "source": [
    "To provision (deploy) a function for serving the model (\"a serving function\") you need to create an MLRun function of type `serving`.\n",
    "You can do this by using the `code_to_function` MLRun method from a web notebook, or by importing an existing serving function or template from the MLRun functions marketplace."
   ]
  },
  {
   "cell_type": "markdown",
   "metadata": {},
   "source": [
    "The following code converts the `ClassifierModel` class that you defined in the previous step to a serving function.\n",
    "The name of the class to be used by the serving function is set in `spec.default_class`."
   ]
  },
  {
   "cell_type": "code",
   "execution_count": 17,
   "metadata": {},
   "outputs": [],
   "source": [
    "serving_fn = mlrun.code_to_function('serving', kind='serving',image='mlrun/mlrun')\n",
    "serving_fn.spec.default_class = 'ClassifierModel'"
   ]
  },
  {
   "cell_type": "markdown",
   "metadata": {},
   "source": [
    "Add the model created in previous notebook by the training function  \n"
   ]
  },
  {
   "cell_type": "code",
   "execution_count": 18,
   "metadata": {},
   "outputs": [
    {
     "data": {
      "text/plain": [
       "<mlrun.serving.states.TaskStep at 0x7f01b846be90>"
      ]
     },
     "execution_count": 18,
     "metadata": {},
     "output_type": "execute_result"
    }
   ],
   "source": [
    "model_file = project.get_artifact_uri('my_model') \n",
    "serving_fn.add_model('my_model',model_path=model_file)"
   ]
  },
  {
   "cell_type": "markdown",
   "metadata": {},
   "source": [
    "<a id=\"gs-tutorial-3-test-func-locally\"></a>"
   ]
  },
  {
   "cell_type": "markdown",
   "metadata": {},
   "source": [
    "### Testing Your Function Locally\n",
    "\n",
    "To test your function locally, create a test server (mock server) and test it with sample data."
   ]
  },
  {
   "cell_type": "code",
   "execution_count": 19,
   "metadata": {
    "collapsed": false,
    "jupyter": {
     "outputs_hidden": false
    },
    "pycharm": {
     "name": "#%%\n"
    }
   },
   "outputs": [],
   "source": [
    "my_data = '''{\"inputs\":[[5.1, 3.5, 1.4, 0.2],[7.7, 3.8, 6.7, 2.2]]}'''"
   ]
  },
  {
   "cell_type": "code",
   "execution_count": 20,
   "metadata": {
    "collapsed": false,
    "jupyter": {
     "outputs_hidden": false
    },
    "pycharm": {
     "name": "#%%\n"
    }
   },
   "outputs": [
    {
     "name": "stdout",
     "output_type": "stream",
     "text": [
      "> 2022-03-08 08:13:34,013 [info] model my_model was loaded\n",
      "> 2022-03-08 08:13:34,014 [info] Loaded ['my_model']\n"
     ]
    },
    {
     "data": {
      "text/plain": [
       "{'id': 'ac38eedf717443ee8daa4f3afda30fb0',\n",
       " 'model_name': 'my_model',\n",
       " 'outputs': [0, 2]}"
      ]
     },
     "execution_count": 20,
     "metadata": {},
     "output_type": "execute_result"
    }
   ],
   "source": [
    "server = serving_fn.to_mock_server()\n",
    "server.test(\"/v2/models/my_model/infer\", body=my_data)"
   ]
  },
  {
   "cell_type": "markdown",
   "metadata": {},
   "source": [
    "<a id=\"gs-tutorial-3-building-and-deploying-the-serving-function\"></a>"
   ]
  },
  {
   "cell_type": "markdown",
   "metadata": {},
   "source": [
    "### Building and Deploying the Serving Function\n",
    "\n",
    "Use the `deploy` method of the MLRun serving function to build and deploy a Nuclio serving function from your serving-function code."
   ]
  },
  {
   "cell_type": "code",
   "execution_count": 21,
   "metadata": {},
   "outputs": [
    {
     "name": "stdout",
     "output_type": "stream",
     "text": [
      "> 2022-03-08 08:13:35,146 [info] Starting remote function deploy\n",
      "2022-03-08 08:13:35  (info) Deploying function\n",
      "2022-03-08 08:13:35  (info) Building\n",
      "2022-03-08 08:13:35  (info) Staging files and preparing base images\n",
      "2022-03-08 08:13:35  (info) Building processor image\n",
      "2022-03-08 08:14:31  (info) Build complete\n",
      "2022-03-08 08:14:36  (info) Function deploy complete\n",
      "> 2022-03-08 08:14:36,606 [info] successfully deployed function: {'internal_invocation_urls': ['nuclio-quick-start-tutorial-admin-serving.default-tenant.svc.cluster.local:8080'], 'external_invocation_urls': ['quick-start-tutorial-admin-serving-quick-start-tutorial-admin.default-tenant.app.product-3-2-3-a.iguazio-cd0.com/']}\n"
     ]
    }
   ],
   "source": [
    "function_address = serving_fn.deploy()"
   ]
  },
  {
   "cell_type": "markdown",
   "metadata": {},
   "source": [
    "<a id=\"gs-tutorial-1-step-schedule-jobs\"></a>"
   ]
  },
  {
   "cell_type": "markdown",
   "metadata": {},
   "source": [
    "### Testing the Live Model-Serving Function\n",
    "\n",
    "After the function is deployed successfully, the serving function has a new HTTP endpoint for handling serving requests.\n",
    "The example tutorial serving function receives HTTP prediction (inference) requests on this endpoint;\n",
    "calls the `infer` method to get the requested predictions; and returns the results on the same endpoint."
   ]
  },
  {
   "cell_type": "code",
   "execution_count": 22,
   "metadata": {},
   "outputs": [
    {
     "name": "stdout",
     "output_type": "stream",
     "text": [
      "The address for the function is http://quick-start-tutorial-admin-serving-quick-start-tutorial-admin.default-tenant.app.product-3-2-3-a.iguazio-cd0.com/ \n",
      "\n",
      "{\"name\": \"ModelRouter\", \"version\": \"v2\", \"extensions\": []}"
     ]
    }
   ],
   "source": [
    "print (f'The address for the function is {function_address} \\n')\n",
    "\n",
    "!curl $function_address"
   ]
  },
  {
   "cell_type": "markdown",
   "metadata": {},
   "source": [
    "### Testing the Model Server\n",
    "\n",
    "Test your model server by sending data for inference.\n",
    "The `invoke` serving-function method enables programmatic testing of the serving function.\n",
    "For model inference (predictions), specify the model name followed by `infer`:\n",
    "```\n",
    "/v2/models/{model_name}/infer\n",
    "```\n",
    "For complete model-service API commands &mdash; such as for list models (`models`), get model health (`ready`), and model explanation (`explain`) &mdash; see the [MLRun documentation](https://github.com/mlrun/mlrun/blob/release/v0.6.x-latest/mlrun/serving/README.md#model-server-api)."
   ]
  },
  {
   "cell_type": "code",
   "execution_count": 23,
   "metadata": {},
   "outputs": [
    {
     "name": "stdout",
     "output_type": "stream",
     "text": [
      "> 2022-03-08 08:14:40,613 [info] invoking function: {'method': 'POST', 'path': 'http://nuclio-quick-start-tutorial-admin-serving.default-tenant.svc.cluster.local:8080/v2/models/my_model/infer'}\n"
     ]
    },
    {
     "data": {
      "text/plain": [
       "{'id': '1f0732d8-c668-4403-b9ef-e6b64d759092',\n",
       " 'model_name': 'my_model',\n",
       " 'outputs': [0, 2]}"
      ]
     },
     "execution_count": 23,
     "metadata": {},
     "output_type": "execute_result"
    }
   ],
   "source": [
    "serving_fn.invoke('/v2/models/my_model/infer', my_data)"
   ]
  },
  {
   "cell_type": "markdown",
   "metadata": {},
   "source": [
    "<a id=\"gs-tutorial-3-step-view-serving-func-in-ui\"></a>"
   ]
  },
  {
   "cell_type": "markdown",
   "metadata": {},
   "source": [
    "### Viewing the Nuclio Serving Function on the Dashboard\n",
    "\n",
    "On the **Projects** dashboard page, select the project and then select \"Real-time functions (Nuclio)\".\n",
    "\n",
    "![Nuclio](../assets/images/nuclio-deploy.png)"
   ]
  },
  {
   "cell_type": "markdown",
   "metadata": {},
   "source": [
    "<a id=\"gs-tutorial-4-step-run-pipeline\"></a>"
   ]
  },
  {
   "cell_type": "markdown",
   "metadata": {},
   "source": [
    "## Step 5: Running A Pipeline\n",
    "\n",
    "Now, let's build an automated pipeline that comprises of all the steps above. <br> First run the following code to save your project:"
   ]
  },
  {
   "cell_type": "code",
   "execution_count": 24,
   "metadata": {},
   "outputs": [],
   "source": [
    "project.set_function('quick-start.ipynb', 'prep-data', kind='job', image='mlrun/mlrun')\n",
    "project.set_function('quick-start.ipynb', 'train', kind='job', image='mlrun/mlrun', handler='train_iris')\n",
    "\n",
    "# set project level parameters and save\n",
    "project.spec.params = {'label_column': 'label'}\n",
    "project.save()"
   ]
  },
  {
   "cell_type": "code",
   "execution_count": 25,
   "metadata": {},
   "outputs": [],
   "source": [
    "# Register the workflow file as \"main\"\n",
    "project.set_workflow('main', 'workflow.py')"
   ]
  },
  {
   "cell_type": "code",
   "execution_count": 26,
   "metadata": {},
   "outputs": [],
   "source": [
    "project.save()"
   ]
  },
  {
   "cell_type": "markdown",
   "metadata": {},
   "source": [
    "Use the `run` MLRun project method to execute your workflow pipeline with Kubeflow Pipelines. <br>\n",
    "The tutorial code sets the following method parameters; (for more information on running workflows, see the [Project workflow and automation](https://docs.mlrun.org/en/latest/projects/workflows.html)\n",
    "\n",
    "The `run` method returns the ID of the executed workflow, which the code stores in a `run_id` variable.\n",
    "You can use this ID to track the progress or your workflow, as demonstrated in the following sections."
   ]
  },
  {
   "cell_type": "code",
   "execution_count": 27,
   "metadata": {},
   "outputs": [],
   "source": [
    "source_url = mlrun.get_sample_path(\"data/iris/iris.data.raw.csv\")\n",
    "model_name=\"iris\"\n",
    "\n",
    "# when not using a managed cluster run with \"local\" engine (assume no Kubeflow)\n",
    "engine = \"kfp\" if mlrun.mlconf.remote_host else \"local\"  "
   ]
  },
  {
   "cell_type": "code",
   "execution_count": 29,
   "metadata": {},
   "outputs": [
    {
     "data": {
      "text/html": [
       "<div>Pipeline running (id=49bb9ed7-8622-41db-9db1-3e354e755a23), <a href=\"https://dashboard.default-tenant.app.product-3-2-3-a.iguazio-cd0.com/mlprojects/quick-start-tutorial-admin/jobs/monitor-workflows/workflow/49bb9ed7-8622-41db-9db1-3e354e755a23\" target=\"_blank\"><b>click here</b></a> to view the details in MLRun UI</div>"
      ],
      "text/plain": [
       "<IPython.core.display.HTML object>"
      ]
     },
     "metadata": {},
     "output_type": "display_data"
    },
    {
     "data": {
      "image/svg+xml": [
       "<?xml version=\"1.0\" encoding=\"UTF-8\" standalone=\"no\"?>\n",
       "<!DOCTYPE svg PUBLIC \"-//W3C//DTD SVG 1.1//EN\"\n",
       " \"http://www.w3.org/Graphics/SVG/1.1/DTD/svg11.dtd\">\n",
       "<!-- Generated by graphviz version 2.40.1 (20161225.0304)\n",
       " -->\n",
       "<!-- Title: kfp Pages: 1 -->\n",
       "<svg width=\"296pt\" height=\"188pt\"\n",
       " viewBox=\"0.00 0.00 296.09 188.00\" xmlns=\"http://www.w3.org/2000/svg\" xmlns:xlink=\"http://www.w3.org/1999/xlink\">\n",
       "<g id=\"graph0\" class=\"graph\" transform=\"scale(1 1) rotate(0) translate(4 184)\">\n",
       "<title>kfp</title>\n",
       "<polygon fill=\"#ffffff\" stroke=\"transparent\" points=\"-4,4 -4,-184 292.0934,-184 292.0934,4 -4,4\"/>\n",
       "<!-- getting&#45;started&#45;tutorial&#45;sk72z&#45;2409247289 -->\n",
       "<g id=\"node1\" class=\"node\">\n",
       "<title>getting&#45;started&#45;tutorial&#45;sk72z&#45;2409247289</title>\n",
       "<ellipse fill=\"#00ff00\" stroke=\"#000000\" cx=\"150.0934\" cy=\"-162\" rx=\"103.1819\" ry=\"18\"/>\n",
       "<text text-anchor=\"middle\" x=\"150.0934\" y=\"-158.3\" font-family=\"Times,serif\" font-size=\"14.00\" fill=\"#000000\">prep&#45;data&#45;prep&#45;data</text>\n",
       "</g>\n",
       "<!-- getting&#45;started&#45;tutorial&#45;sk72z&#45;713919998 -->\n",
       "<g id=\"node2\" class=\"node\">\n",
       "<title>getting&#45;started&#45;tutorial&#45;sk72z&#45;713919998</title>\n",
       "<ellipse fill=\"#00ff00\" stroke=\"#000000\" cx=\"150.0934\" cy=\"-90\" rx=\"33.2948\" ry=\"18\"/>\n",
       "<text text-anchor=\"middle\" x=\"150.0934\" y=\"-86.3\" font-family=\"Times,serif\" font-size=\"14.00\" fill=\"#000000\">train</text>\n",
       "</g>\n",
       "<!-- getting&#45;started&#45;tutorial&#45;sk72z&#45;2409247289&#45;&gt;getting&#45;started&#45;tutorial&#45;sk72z&#45;713919998 -->\n",
       "<g id=\"edge1\" class=\"edge\">\n",
       "<title>getting&#45;started&#45;tutorial&#45;sk72z&#45;2409247289&#45;&gt;getting&#45;started&#45;tutorial&#45;sk72z&#45;713919998</title>\n",
       "<path fill=\"none\" stroke=\"#000000\" d=\"M150.0934,-143.8314C150.0934,-136.131 150.0934,-126.9743 150.0934,-118.4166\"/>\n",
       "<polygon fill=\"#000000\" stroke=\"#000000\" points=\"153.5935,-118.4132 150.0934,-108.4133 146.5935,-118.4133 153.5935,-118.4132\"/>\n",
       "</g>\n",
       "<!-- getting&#45;started&#45;tutorial&#45;sk72z&#45;2948199946 -->\n",
       "<g id=\"node3\" class=\"node\">\n",
       "<title>getting&#45;started&#45;tutorial&#45;sk72z&#45;2948199946</title>\n",
       "<ellipse fill=\"#00ff00\" stroke=\"#000000\" cx=\"74.0934\" cy=\"-18\" rx=\"74.187\" ry=\"18\"/>\n",
       "<text text-anchor=\"middle\" x=\"74.0934\" y=\"-14.3\" font-family=\"Times,serif\" font-size=\"14.00\" fill=\"#000000\">test&#45;classifier</text>\n",
       "</g>\n",
       "<!-- getting&#45;started&#45;tutorial&#45;sk72z&#45;713919998&#45;&gt;getting&#45;started&#45;tutorial&#45;sk72z&#45;2948199946 -->\n",
       "<g id=\"edge3\" class=\"edge\">\n",
       "<title>getting&#45;started&#45;tutorial&#45;sk72z&#45;713919998&#45;&gt;getting&#45;started&#45;tutorial&#45;sk72z&#45;2948199946</title>\n",
       "<path fill=\"none\" stroke=\"#000000\" d=\"M133.6026,-74.3771C123.8126,-65.1023 111.1825,-53.137 100.0783,-42.6172\"/>\n",
       "<polygon fill=\"#000000\" stroke=\"#000000\" points=\"102.3548,-39.9527 92.6882,-35.6161 97.5406,-45.0344 102.3548,-39.9527\"/>\n",
       "</g>\n",
       "<!-- getting&#45;started&#45;tutorial&#45;sk72z&#45;3414330050 -->\n",
       "<g id=\"node4\" class=\"node\">\n",
       "<title>getting&#45;started&#45;tutorial&#45;sk72z&#45;3414330050</title>\n",
       "<polygon fill=\"#00ff00\" stroke=\"#000000\" points=\"288.0934,-36 170.0934,-36 166.0934,-32 166.0934,0 284.0934,0 288.0934,-4 288.0934,-36\"/>\n",
       "<polyline fill=\"none\" stroke=\"#000000\" points=\"284.0934,-32 166.0934,-32 \"/>\n",
       "<polyline fill=\"none\" stroke=\"#000000\" points=\"284.0934,-32 284.0934,0 \"/>\n",
       "<polyline fill=\"none\" stroke=\"#000000\" points=\"284.0934,-32 288.0934,-36 \"/>\n",
       "<text text-anchor=\"middle\" x=\"227.0934\" y=\"-14.3\" font-family=\"Times,serif\" font-size=\"14.00\" fill=\"#000000\">deploy&#45;serving</text>\n",
       "</g>\n",
       "<!-- getting&#45;started&#45;tutorial&#45;sk72z&#45;713919998&#45;&gt;getting&#45;started&#45;tutorial&#45;sk72z&#45;3414330050 -->\n",
       "<g id=\"edge2\" class=\"edge\">\n",
       "<title>getting&#45;started&#45;tutorial&#45;sk72z&#45;713919998&#45;&gt;getting&#45;started&#45;tutorial&#45;sk72z&#45;3414330050</title>\n",
       "<path fill=\"none\" stroke=\"#000000\" d=\"M166.8013,-74.3771C176.5763,-65.2367 189.146,-53.4833 200.2766,-43.0755\"/>\n",
       "<polygon fill=\"#000000\" stroke=\"#000000\" points=\"202.7866,-45.5202 207.7004,-36.1338 198.0056,-40.4072 202.7866,-45.5202\"/>\n",
       "</g>\n",
       "</g>\n",
       "</svg>\n"
      ],
      "text/plain": [
       "<graphviz.dot.Digraph at 0x7f01b8226b10>"
      ]
     },
     "metadata": {},
     "output_type": "display_data"
    },
    {
     "data": {
      "text/html": [
       "<h2>Run Results</h2>Workflow 49bb9ed7-8622-41db-9db1-3e354e755a23 finished, state=Succeeded<br>click the hyper links below to see detailed results<br><table border=\"1\" class=\"dataframe\">\n",
       "  <thead>\n",
       "    <tr style=\"text-align: right;\">\n",
       "      <th>uid</th>\n",
       "      <th>start</th>\n",
       "      <th>state</th>\n",
       "      <th>name</th>\n",
       "      <th>parameters</th>\n",
       "      <th>results</th>\n",
       "    </tr>\n",
       "  </thead>\n",
       "  <tbody>\n",
       "    <tr>\n",
       "      <td><div title=\"f0c97517ec6c481b8a4de792b2f210b9\"><a href=\"https://dashboard.default-tenant.app.product-3-2-3-a.iguazio-cd0.com/mlprojects/quick-start-tutorial-admin/jobs/monitor/f0c97517ec6c481b8a4de792b2f210b9/overview\" target=\"_blank\" >...b2f210b9</a></div></td>\n",
       "      <td>Mar 08 08:35:52</td>\n",
       "      <td>completed</td>\n",
       "      <td>test-classifier</td>\n",
       "      <td><div class=\"dictlist\">label_column=label</div></td>\n",
       "      <td><div class=\"dictlist\">accuracy=1.0</div><div class=\"dictlist\">test-error=0.0</div><div class=\"dictlist\">auc-micro=1.0</div><div class=\"dictlist\">auc-weighted=1.0</div><div class=\"dictlist\">f1-score=1.0</div><div class=\"dictlist\">precision_score=1.0</div><div class=\"dictlist\">recall_score=1.0</div></td>\n",
       "    </tr>\n",
       "    <tr>\n",
       "      <td><div title=\"7f50fb7219ca4a34846cf6c08a8938fe\"><a href=\"https://dashboard.default-tenant.app.product-3-2-3-a.iguazio-cd0.com/mlprojects/quick-start-tutorial-admin/jobs/monitor/7f50fb7219ca4a34846cf6c08a8938fe/overview\" target=\"_blank\" >...8a8938fe</a></div></td>\n",
       "      <td>Mar 08 08:35:40</td>\n",
       "      <td>completed</td>\n",
       "      <td>train</td>\n",
       "      <td><div class=\"dictlist\">label_column=label</div></td>\n",
       "      <td><div class=\"dictlist\">accuracy=1.0</div><div class=\"dictlist\">f1_score=1.0</div><div class=\"dictlist\">precision_score=1.0</div><div class=\"dictlist\">recall_score=1.0</div><div class=\"dictlist\">auc-micro=1.0</div><div class=\"dictlist\">auc-macro=1.0</div><div class=\"dictlist\">auc-weighted=1.0</div></td>\n",
       "    </tr>\n",
       "    <tr>\n",
       "      <td><div title=\"662dc711c9e4492da887c965eb205f18\"><a href=\"https://dashboard.default-tenant.app.product-3-2-3-a.iguazio-cd0.com/mlprojects/quick-start-tutorial-admin/jobs/monitor/662dc711c9e4492da887c965eb205f18/overview\" target=\"_blank\" >...eb205f18</a></div></td>\n",
       "      <td>Mar 08 08:35:28</td>\n",
       "      <td>completed</td>\n",
       "      <td>prep-data-prep_data</td>\n",
       "      <td><div class=\"dictlist\">label_column=label</div></td>\n",
       "      <td><div class=\"dictlist\">num_rows=150</div></td>\n",
       "    </tr>\n",
       "  </tbody>\n",
       "</table>"
      ],
      "text/plain": [
       "<IPython.core.display.HTML object>"
      ]
     },
     "metadata": {},
     "output_type": "display_data"
    }
   ],
   "source": [
    "model_name=\"iris\"\n",
    "run_id = project.run(\n",
    "    'main',\n",
    "    arguments={'source_url' : source_url, \"model_name\": model_name}, \n",
    "    #dirty=True,\n",
    "    engine=engine,\n",
    "    watch=True)"
   ]
  },
  {
   "cell_type": "markdown",
   "metadata": {},
   "source": [
    "### Viewing the end to end workflow in the UI\n",
    "\n",
    "On the **Projects** dashboard page, select the project and then select \"jobs and workflows\", then go to the workflow tab and click on the workflow link.\n",
    "\n",
    "![workflow](../assets/images/workflow.png)"
   ]
  },
  {
   "cell_type": "markdown",
   "metadata": {},
   "source": [
    "## Done!\n",
    "\n",
    "Congratulation! You've completed the Iguazio quick start tutorials."
   ]
  },
  {
   "cell_type": "code",
   "execution_count": null,
   "metadata": {},
   "outputs": [],
   "source": []
  }
 ],
 "metadata": {
  "kernelspec": {
   "display_name": "Python 3",
   "language": "python",
   "name": "python3"
  },
  "language_info": {
   "codemirror_mode": {
    "name": "ipython",
    "version": 3
   },
   "file_extension": ".py",
   "mimetype": "text/x-python",
   "name": "python",
   "nbconvert_exporter": "python",
   "pygments_lexer": "ipython3",
   "version": "3.7.6"
  }
 },
 "nbformat": 4,
 "nbformat_minor": 4
}
